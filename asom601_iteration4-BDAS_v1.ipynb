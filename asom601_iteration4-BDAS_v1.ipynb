{
 "cells": [
  {
   "cell_type": "code",
   "execution_count": 1,
   "metadata": {},
   "outputs": [],
   "source": [
    "import findspark\n",
    "findspark.init('/home/ubuntu/spark-2.1.1-bin-hadoop2.7')\n",
    "import pyspark\n",
    "from pyspark.sql import SparkSession\n",
    "spark = SparkSession.builder.appName('studentGrade').getOrCreate()"
   ]
  },
  {
   "cell_type": "code",
   "execution_count": 2,
   "metadata": {},
   "outputs": [
    {
     "data": {
      "text/plain": [
       "[Row(school='GP', sex='F', age=18, address='U', famsize='GT3', Pstatus='A', Medu=4, Fedu=4, Mjob='at_home', Fjob='teacher', reason='course', guardian='mother', traveltime=2, studytime=2, failures=0, schoolsup='yes', famsup='no', paid='no', activities='no', nursery='yes', higher='yes', internet='no', romantic='no', famrel=4, freetime=3, goout=4, Dalc=1, Walc=1, health=3, absences=6, G1=5, G2=6, G3=6)]"
      ]
     },
     "execution_count": 2,
     "metadata": {},
     "output_type": "execute_result"
    }
   ],
   "source": [
    "# Importing data which has a header. Schema is automatically configured.\n",
    "df = spark.read.csv('./student-mat.csv', header=True, inferSchema=True)\n",
    "#df.show()\n",
    "df.head(1)\n"
   ]
  },
  {
   "cell_type": "code",
   "execution_count": 3,
   "metadata": {},
   "outputs": [
    {
     "data": {
      "text/html": [
       "<div>\n",
       "<style scoped>\n",
       "    .dataframe tbody tr th:only-of-type {\n",
       "        vertical-align: middle;\n",
       "    }\n",
       "\n",
       "    .dataframe tbody tr th {\n",
       "        vertical-align: top;\n",
       "    }\n",
       "\n",
       "    .dataframe thead th {\n",
       "        text-align: right;\n",
       "    }\n",
       "</style>\n",
       "<table border=\"1\" class=\"dataframe\">\n",
       "  <thead>\n",
       "    <tr style=\"text-align: right;\">\n",
       "      <th></th>\n",
       "      <th>school</th>\n",
       "      <th>sex</th>\n",
       "      <th>age</th>\n",
       "      <th>address</th>\n",
       "      <th>famsize</th>\n",
       "      <th>Pstatus</th>\n",
       "      <th>Medu</th>\n",
       "      <th>Fedu</th>\n",
       "      <th>Mjob</th>\n",
       "      <th>Fjob</th>\n",
       "      <th>...</th>\n",
       "      <th>famrel</th>\n",
       "      <th>freetime</th>\n",
       "      <th>goout</th>\n",
       "      <th>Dalc</th>\n",
       "      <th>Walc</th>\n",
       "      <th>health</th>\n",
       "      <th>absences</th>\n",
       "      <th>G1</th>\n",
       "      <th>G2</th>\n",
       "      <th>G3</th>\n",
       "    </tr>\n",
       "  </thead>\n",
       "  <tbody>\n",
       "    <tr>\n",
       "      <th>0</th>\n",
       "      <td>GP</td>\n",
       "      <td>F</td>\n",
       "      <td>18</td>\n",
       "      <td>U</td>\n",
       "      <td>GT3</td>\n",
       "      <td>A</td>\n",
       "      <td>4</td>\n",
       "      <td>4</td>\n",
       "      <td>at_home</td>\n",
       "      <td>teacher</td>\n",
       "      <td>...</td>\n",
       "      <td>4</td>\n",
       "      <td>3</td>\n",
       "      <td>4</td>\n",
       "      <td>1</td>\n",
       "      <td>1</td>\n",
       "      <td>3</td>\n",
       "      <td>6</td>\n",
       "      <td>5</td>\n",
       "      <td>6</td>\n",
       "      <td>6</td>\n",
       "    </tr>\n",
       "    <tr>\n",
       "      <th>1</th>\n",
       "      <td>GP</td>\n",
       "      <td>F</td>\n",
       "      <td>17</td>\n",
       "      <td>U</td>\n",
       "      <td>GT3</td>\n",
       "      <td>T</td>\n",
       "      <td>1</td>\n",
       "      <td>1</td>\n",
       "      <td>at_home</td>\n",
       "      <td>other</td>\n",
       "      <td>...</td>\n",
       "      <td>5</td>\n",
       "      <td>3</td>\n",
       "      <td>3</td>\n",
       "      <td>1</td>\n",
       "      <td>1</td>\n",
       "      <td>3</td>\n",
       "      <td>4</td>\n",
       "      <td>5</td>\n",
       "      <td>5</td>\n",
       "      <td>6</td>\n",
       "    </tr>\n",
       "    <tr>\n",
       "      <th>2</th>\n",
       "      <td>GP</td>\n",
       "      <td>F</td>\n",
       "      <td>15</td>\n",
       "      <td>U</td>\n",
       "      <td>LE3</td>\n",
       "      <td>T</td>\n",
       "      <td>1</td>\n",
       "      <td>1</td>\n",
       "      <td>at_home</td>\n",
       "      <td>other</td>\n",
       "      <td>...</td>\n",
       "      <td>4</td>\n",
       "      <td>3</td>\n",
       "      <td>2</td>\n",
       "      <td>2</td>\n",
       "      <td>3</td>\n",
       "      <td>3</td>\n",
       "      <td>10</td>\n",
       "      <td>7</td>\n",
       "      <td>8</td>\n",
       "      <td>10</td>\n",
       "    </tr>\n",
       "    <tr>\n",
       "      <th>3</th>\n",
       "      <td>GP</td>\n",
       "      <td>F</td>\n",
       "      <td>15</td>\n",
       "      <td>U</td>\n",
       "      <td>GT3</td>\n",
       "      <td>T</td>\n",
       "      <td>4</td>\n",
       "      <td>2</td>\n",
       "      <td>health</td>\n",
       "      <td>services</td>\n",
       "      <td>...</td>\n",
       "      <td>3</td>\n",
       "      <td>2</td>\n",
       "      <td>2</td>\n",
       "      <td>1</td>\n",
       "      <td>1</td>\n",
       "      <td>5</td>\n",
       "      <td>2</td>\n",
       "      <td>15</td>\n",
       "      <td>14</td>\n",
       "      <td>15</td>\n",
       "    </tr>\n",
       "    <tr>\n",
       "      <th>4</th>\n",
       "      <td>GP</td>\n",
       "      <td>F</td>\n",
       "      <td>16</td>\n",
       "      <td>U</td>\n",
       "      <td>GT3</td>\n",
       "      <td>T</td>\n",
       "      <td>3</td>\n",
       "      <td>3</td>\n",
       "      <td>other</td>\n",
       "      <td>other</td>\n",
       "      <td>...</td>\n",
       "      <td>4</td>\n",
       "      <td>3</td>\n",
       "      <td>2</td>\n",
       "      <td>1</td>\n",
       "      <td>2</td>\n",
       "      <td>5</td>\n",
       "      <td>4</td>\n",
       "      <td>6</td>\n",
       "      <td>10</td>\n",
       "      <td>10</td>\n",
       "    </tr>\n",
       "  </tbody>\n",
       "</table>\n",
       "<p>5 rows × 33 columns</p>\n",
       "</div>"
      ],
      "text/plain": [
       "  school sex  age address famsize Pstatus  Medu  Fedu     Mjob      Fjob ...  \\\n",
       "0     GP   F   18       U     GT3       A     4     4  at_home   teacher ...   \n",
       "1     GP   F   17       U     GT3       T     1     1  at_home     other ...   \n",
       "2     GP   F   15       U     LE3       T     1     1  at_home     other ...   \n",
       "3     GP   F   15       U     GT3       T     4     2   health  services ...   \n",
       "4     GP   F   16       U     GT3       T     3     3    other     other ...   \n",
       "\n",
       "  famrel freetime  goout  Dalc  Walc health absences  G1  G2  G3  \n",
       "0      4        3      4     1     1      3        6   5   6   6  \n",
       "1      5        3      3     1     1      3        4   5   5   6  \n",
       "2      4        3      2     2     3      3       10   7   8  10  \n",
       "3      3        2      2     1     1      5        2  15  14  15  \n",
       "4      4        3      2     1     2      5        4   6  10  10  \n",
       "\n",
       "[5 rows x 33 columns]"
      ]
     },
     "execution_count": 3,
     "metadata": {},
     "output_type": "execute_result"
    }
   ],
   "source": [
    "df.toPandas().head()"
   ]
  },
  {
   "cell_type": "code",
   "execution_count": 4,
   "metadata": {},
   "outputs": [
    {
     "data": {
      "text/plain": [
       "['school',\n",
       " 'sex',\n",
       " 'age',\n",
       " 'address',\n",
       " 'famsize',\n",
       " 'Pstatus',\n",
       " 'Medu',\n",
       " 'Fedu',\n",
       " 'Mjob',\n",
       " 'Fjob',\n",
       " 'reason',\n",
       " 'guardian',\n",
       " 'traveltime',\n",
       " 'studytime',\n",
       " 'failures',\n",
       " 'schoolsup',\n",
       " 'famsup',\n",
       " 'paid',\n",
       " 'activities',\n",
       " 'nursery',\n",
       " 'higher',\n",
       " 'internet',\n",
       " 'romantic',\n",
       " 'famrel',\n",
       " 'freetime',\n",
       " 'goout',\n",
       " 'Dalc',\n",
       " 'Walc',\n",
       " 'health',\n",
       " 'absences',\n",
       " 'G1',\n",
       " 'G2',\n",
       " 'G3']"
      ]
     },
     "execution_count": 4,
     "metadata": {},
     "output_type": "execute_result"
    }
   ],
   "source": [
    "df.columns"
   ]
  },
  {
   "cell_type": "code",
   "execution_count": 5,
   "metadata": {},
   "outputs": [
    {
     "name": "stdout",
     "output_type": "stream",
     "text": [
      "(395, 33)\n"
     ]
    }
   ],
   "source": [
    "print((df.count(), len(df.columns)))"
   ]
  },
  {
   "cell_type": "code",
   "execution_count": 6,
   "metadata": {},
   "outputs": [
    {
     "data": {
      "text/plain": [
       "[('school', 'string'),\n",
       " ('sex', 'string'),\n",
       " ('age', 'int'),\n",
       " ('address', 'string'),\n",
       " ('famsize', 'string'),\n",
       " ('Pstatus', 'string'),\n",
       " ('Medu', 'int'),\n",
       " ('Fedu', 'int'),\n",
       " ('Mjob', 'string'),\n",
       " ('Fjob', 'string'),\n",
       " ('reason', 'string'),\n",
       " ('guardian', 'string'),\n",
       " ('traveltime', 'int'),\n",
       " ('studytime', 'int'),\n",
       " ('failures', 'int'),\n",
       " ('schoolsup', 'string'),\n",
       " ('famsup', 'string'),\n",
       " ('paid', 'string'),\n",
       " ('activities', 'string'),\n",
       " ('nursery', 'string'),\n",
       " ('higher', 'string'),\n",
       " ('internet', 'string'),\n",
       " ('romantic', 'string'),\n",
       " ('famrel', 'int'),\n",
       " ('freetime', 'int'),\n",
       " ('goout', 'int'),\n",
       " ('Dalc', 'int'),\n",
       " ('Walc', 'int'),\n",
       " ('health', 'int'),\n",
       " ('absences', 'int'),\n",
       " ('G1', 'int'),\n",
       " ('G2', 'int'),\n",
       " ('G3', 'int')]"
      ]
     },
     "execution_count": 6,
     "metadata": {},
     "output_type": "execute_result"
    }
   ],
   "source": [
    "df.dtypes"
   ]
  },
  {
   "cell_type": "code",
   "execution_count": 7,
   "metadata": {},
   "outputs": [
    {
     "name": "stdout",
     "output_type": "stream",
     "text": [
      "+------+\n",
      "|school|\n",
      "+------+\n",
      "|    MS|\n",
      "|    GP|\n",
      "+------+\n",
      "\n",
      "+---+\n",
      "|sex|\n",
      "+---+\n",
      "|  F|\n",
      "|  M|\n",
      "+---+\n",
      "\n",
      "+-------+\n",
      "|address|\n",
      "+-------+\n",
      "|      U|\n",
      "|      R|\n",
      "+-------+\n",
      "\n",
      "+-------+\n",
      "|famsize|\n",
      "+-------+\n",
      "|    LE3|\n",
      "|    GT3|\n",
      "+-------+\n",
      "\n",
      "+-------+\n",
      "|Pstatus|\n",
      "+-------+\n",
      "|      T|\n",
      "|      A|\n",
      "+-------+\n",
      "\n",
      "+--------+\n",
      "|    Mjob|\n",
      "+--------+\n",
      "| at_home|\n",
      "| teacher|\n",
      "|   other|\n",
      "|  health|\n",
      "|services|\n",
      "+--------+\n",
      "\n",
      "+--------+\n",
      "|    Fjob|\n",
      "+--------+\n",
      "| at_home|\n",
      "| teacher|\n",
      "|   other|\n",
      "|  health|\n",
      "|services|\n",
      "+--------+\n",
      "\n",
      "+----------+\n",
      "|    reason|\n",
      "+----------+\n",
      "|reputation|\n",
      "|    course|\n",
      "|     other|\n",
      "|      home|\n",
      "+----------+\n",
      "\n",
      "+--------+\n",
      "|guardian|\n",
      "+--------+\n",
      "|  father|\n",
      "|  mother|\n",
      "|   other|\n",
      "+--------+\n",
      "\n",
      "+---------+\n",
      "|schoolsup|\n",
      "+---------+\n",
      "|       no|\n",
      "|      yes|\n",
      "+---------+\n",
      "\n",
      "+------+\n",
      "|famsup|\n",
      "+------+\n",
      "|    no|\n",
      "|   yes|\n",
      "+------+\n",
      "\n",
      "+----+\n",
      "|paid|\n",
      "+----+\n",
      "|  no|\n",
      "| yes|\n",
      "+----+\n",
      "\n",
      "+----------+\n",
      "|activities|\n",
      "+----------+\n",
      "|      null|\n",
      "|        no|\n",
      "|       yes|\n",
      "+----------+\n",
      "\n",
      "+-------+\n",
      "|nursery|\n",
      "+-------+\n",
      "|     no|\n",
      "|    yes|\n",
      "+-------+\n",
      "\n",
      "+------+\n",
      "|higher|\n",
      "+------+\n",
      "|    no|\n",
      "|   yes|\n",
      "+------+\n",
      "\n",
      "+--------+\n",
      "|internet|\n",
      "+--------+\n",
      "|      no|\n",
      "|     yes|\n",
      "+--------+\n",
      "\n",
      "+--------+\n",
      "|romantic|\n",
      "+--------+\n",
      "|      no|\n",
      "|     yes|\n",
      "+--------+\n",
      "\n"
     ]
    }
   ],
   "source": [
    "# Unique values of string columns\n",
    "df.select(\"school\").distinct().show()\n",
    "df.select(\"sex\").distinct().show()\n",
    "df.select(\"address\").distinct().show()\n",
    "df.select(\"famsize\").distinct().show()\n",
    "df.select(\"Pstatus\").distinct().show()\n",
    "df.select(\"Mjob\").distinct().show()\n",
    "df.select(\"Fjob\").distinct().show()\n",
    "df.select(\"reason\").distinct().show()\n",
    "df.select(\"guardian\").distinct().show()\n",
    "df.select(\"schoolsup\").distinct().show()\n",
    "df.select(\"famsup\").distinct().show()\n",
    "df.select(\"paid\").distinct().show()\n",
    "df.select(\"activities\").distinct().show()\n",
    "df.select(\"nursery\").distinct().show()\n",
    "df.select(\"higher\").distinct().show()\n",
    "df.select(\"internet\").distinct().show()\n",
    "df.select(\"romantic\").distinct().show()"
   ]
  },
  {
   "cell_type": "code",
   "execution_count": 8,
   "metadata": {},
   "outputs": [
    {
     "name": "stdout",
     "output_type": "stream",
     "text": [
      "+---+\n",
      "|age|\n",
      "+---+\n",
      "| 22|\n",
      "| 16|\n",
      "| 20|\n",
      "| 19|\n",
      "| 15|\n",
      "| 17|\n",
      "| 21|\n",
      "| 18|\n",
      "+---+\n",
      "\n",
      "+----+\n",
      "|Fedu|\n",
      "+----+\n",
      "|   1|\n",
      "|   3|\n",
      "|   4|\n",
      "|   2|\n",
      "|   0|\n",
      "+----+\n",
      "\n",
      "+----+\n",
      "|Medu|\n",
      "+----+\n",
      "|   1|\n",
      "|   3|\n",
      "|   4|\n",
      "|   2|\n",
      "|   0|\n",
      "+----+\n",
      "\n",
      "+----------+\n",
      "|traveltime|\n",
      "+----------+\n",
      "|         1|\n",
      "|         3|\n",
      "|         4|\n",
      "|         2|\n",
      "+----------+\n",
      "\n",
      "+---------+\n",
      "|studytime|\n",
      "+---------+\n",
      "|        1|\n",
      "|        3|\n",
      "|        4|\n",
      "|        2|\n",
      "+---------+\n",
      "\n",
      "+--------+\n",
      "|failures|\n",
      "+--------+\n",
      "|    null|\n",
      "|       1|\n",
      "|       3|\n",
      "|       2|\n",
      "|       0|\n",
      "+--------+\n",
      "\n",
      "+------+\n",
      "|famrel|\n",
      "+------+\n",
      "|     1|\n",
      "|     3|\n",
      "|     5|\n",
      "|     4|\n",
      "|     2|\n",
      "+------+\n",
      "\n",
      "+--------+\n",
      "|freetime|\n",
      "+--------+\n",
      "|       1|\n",
      "|       3|\n",
      "|       5|\n",
      "|       4|\n",
      "|       2|\n",
      "+--------+\n",
      "\n",
      "+-----+\n",
      "|goout|\n",
      "+-----+\n",
      "|    1|\n",
      "|    3|\n",
      "|    5|\n",
      "|    4|\n",
      "|    2|\n",
      "+-----+\n",
      "\n",
      "+----+\n",
      "|Dalc|\n",
      "+----+\n",
      "|   1|\n",
      "|   3|\n",
      "|   5|\n",
      "|   4|\n",
      "|   2|\n",
      "+----+\n",
      "\n",
      "+----+\n",
      "|Walc|\n",
      "+----+\n",
      "|   1|\n",
      "|   3|\n",
      "|   5|\n",
      "|   4|\n",
      "|   2|\n",
      "+----+\n",
      "\n",
      "+------+\n",
      "|health|\n",
      "+------+\n",
      "|     1|\n",
      "|     3|\n",
      "|     5|\n",
      "|     4|\n",
      "|     2|\n",
      "+------+\n",
      "\n",
      "+--------+\n",
      "|absences|\n",
      "+--------+\n",
      "|      28|\n",
      "|      26|\n",
      "|      12|\n",
      "|      22|\n",
      "|       1|\n",
      "|      13|\n",
      "|       6|\n",
      "|      16|\n",
      "|       3|\n",
      "|      20|\n",
      "|      40|\n",
      "|      54|\n",
      "|       5|\n",
      "|      19|\n",
      "|      15|\n",
      "|       9|\n",
      "|      17|\n",
      "|       4|\n",
      "|       8|\n",
      "|      23|\n",
      "+--------+\n",
      "only showing top 20 rows\n",
      "\n",
      "+---+\n",
      "| G1|\n",
      "+---+\n",
      "| 12|\n",
      "| 13|\n",
      "|  6|\n",
      "| 16|\n",
      "|  3|\n",
      "|  5|\n",
      "| 19|\n",
      "| 15|\n",
      "|  9|\n",
      "| 17|\n",
      "|  4|\n",
      "|  8|\n",
      "|  7|\n",
      "| 10|\n",
      "| 11|\n",
      "| 14|\n",
      "| 18|\n",
      "+---+\n",
      "\n",
      "+---+\n",
      "| G2|\n",
      "+---+\n",
      "| 12|\n",
      "| 13|\n",
      "|  6|\n",
      "| 16|\n",
      "|  5|\n",
      "| 19|\n",
      "| 15|\n",
      "|  9|\n",
      "| 17|\n",
      "|  4|\n",
      "|  8|\n",
      "|  7|\n",
      "| 10|\n",
      "| 11|\n",
      "| 14|\n",
      "|  0|\n",
      "| 18|\n",
      "+---+\n",
      "\n",
      "+---+\n",
      "| G3|\n",
      "+---+\n",
      "| 12|\n",
      "| 13|\n",
      "|  6|\n",
      "| 16|\n",
      "| 20|\n",
      "|  5|\n",
      "| 19|\n",
      "| 15|\n",
      "|  9|\n",
      "| 17|\n",
      "|  4|\n",
      "|  8|\n",
      "|  7|\n",
      "| 10|\n",
      "| 11|\n",
      "| 14|\n",
      "|  0|\n",
      "| 18|\n",
      "+---+\n",
      "\n"
     ]
    }
   ],
   "source": [
    "# Unique values of integer columns\n",
    "df.select(\"age\").distinct().show()\n",
    "df.select(\"Fedu\").distinct().show()\n",
    "df.select(\"Medu\").distinct().show()\n",
    "df.select(\"traveltime\").distinct().show()\n",
    "df.select(\"studytime\").distinct().show()\n",
    "df.select(\"failures\").distinct().show()\n",
    "df.select(\"famrel\").distinct().show()\n",
    "df.select(\"freetime\").distinct().show()\n",
    "df.select(\"goout\").distinct().show()\n",
    "df.select(\"Dalc\").distinct().show()\n",
    "df.select(\"Walc\").distinct().show()\n",
    "df.select(\"health\").distinct().show()\n",
    "df.select(\"absences\").distinct().show()\n",
    "df.select(\"G1\").distinct().show()\n",
    "df.select(\"G2\").distinct().show()\n",
    "df.select(\"G3\").distinct().show()"
   ]
  },
  {
   "cell_type": "code",
   "execution_count": 9,
   "metadata": {},
   "outputs": [
    {
     "data": {
      "text/html": [
       "<div>\n",
       "<style scoped>\n",
       "    .dataframe tbody tr th:only-of-type {\n",
       "        vertical-align: middle;\n",
       "    }\n",
       "\n",
       "    .dataframe tbody tr th {\n",
       "        vertical-align: top;\n",
       "    }\n",
       "\n",
       "    .dataframe thead th {\n",
       "        text-align: right;\n",
       "    }\n",
       "</style>\n",
       "<table border=\"1\" class=\"dataframe\">\n",
       "  <thead>\n",
       "    <tr style=\"text-align: right;\">\n",
       "      <th></th>\n",
       "      <th>count</th>\n",
       "      <th>mean</th>\n",
       "      <th>std</th>\n",
       "      <th>min</th>\n",
       "      <th>25%</th>\n",
       "      <th>50%</th>\n",
       "      <th>75%</th>\n",
       "      <th>max</th>\n",
       "    </tr>\n",
       "  </thead>\n",
       "  <tbody>\n",
       "    <tr>\n",
       "      <th>age</th>\n",
       "      <td>395.0</td>\n",
       "      <td>16.696203</td>\n",
       "      <td>1.276043</td>\n",
       "      <td>15.0</td>\n",
       "      <td>16.0</td>\n",
       "      <td>17.0</td>\n",
       "      <td>18.0</td>\n",
       "      <td>22.0</td>\n",
       "    </tr>\n",
       "    <tr>\n",
       "      <th>Medu</th>\n",
       "      <td>395.0</td>\n",
       "      <td>2.749367</td>\n",
       "      <td>1.094735</td>\n",
       "      <td>0.0</td>\n",
       "      <td>2.0</td>\n",
       "      <td>3.0</td>\n",
       "      <td>4.0</td>\n",
       "      <td>4.0</td>\n",
       "    </tr>\n",
       "    <tr>\n",
       "      <th>Fedu</th>\n",
       "      <td>395.0</td>\n",
       "      <td>2.521519</td>\n",
       "      <td>1.088201</td>\n",
       "      <td>0.0</td>\n",
       "      <td>2.0</td>\n",
       "      <td>2.0</td>\n",
       "      <td>3.0</td>\n",
       "      <td>4.0</td>\n",
       "    </tr>\n",
       "    <tr>\n",
       "      <th>traveltime</th>\n",
       "      <td>395.0</td>\n",
       "      <td>1.448101</td>\n",
       "      <td>0.697505</td>\n",
       "      <td>1.0</td>\n",
       "      <td>1.0</td>\n",
       "      <td>1.0</td>\n",
       "      <td>2.0</td>\n",
       "      <td>4.0</td>\n",
       "    </tr>\n",
       "    <tr>\n",
       "      <th>studytime</th>\n",
       "      <td>395.0</td>\n",
       "      <td>2.035443</td>\n",
       "      <td>0.839240</td>\n",
       "      <td>1.0</td>\n",
       "      <td>1.0</td>\n",
       "      <td>2.0</td>\n",
       "      <td>2.0</td>\n",
       "      <td>4.0</td>\n",
       "    </tr>\n",
       "    <tr>\n",
       "      <th>failures</th>\n",
       "      <td>360.0</td>\n",
       "      <td>0.347222</td>\n",
       "      <td>0.753076</td>\n",
       "      <td>0.0</td>\n",
       "      <td>0.0</td>\n",
       "      <td>0.0</td>\n",
       "      <td>0.0</td>\n",
       "      <td>3.0</td>\n",
       "    </tr>\n",
       "    <tr>\n",
       "      <th>famrel</th>\n",
       "      <td>395.0</td>\n",
       "      <td>3.944304</td>\n",
       "      <td>0.896659</td>\n",
       "      <td>1.0</td>\n",
       "      <td>4.0</td>\n",
       "      <td>4.0</td>\n",
       "      <td>5.0</td>\n",
       "      <td>5.0</td>\n",
       "    </tr>\n",
       "    <tr>\n",
       "      <th>freetime</th>\n",
       "      <td>395.0</td>\n",
       "      <td>3.235443</td>\n",
       "      <td>0.998862</td>\n",
       "      <td>1.0</td>\n",
       "      <td>3.0</td>\n",
       "      <td>3.0</td>\n",
       "      <td>4.0</td>\n",
       "      <td>5.0</td>\n",
       "    </tr>\n",
       "    <tr>\n",
       "      <th>goout</th>\n",
       "      <td>395.0</td>\n",
       "      <td>3.108861</td>\n",
       "      <td>1.113278</td>\n",
       "      <td>1.0</td>\n",
       "      <td>2.0</td>\n",
       "      <td>3.0</td>\n",
       "      <td>4.0</td>\n",
       "      <td>5.0</td>\n",
       "    </tr>\n",
       "    <tr>\n",
       "      <th>Dalc</th>\n",
       "      <td>395.0</td>\n",
       "      <td>1.481013</td>\n",
       "      <td>0.890741</td>\n",
       "      <td>1.0</td>\n",
       "      <td>1.0</td>\n",
       "      <td>1.0</td>\n",
       "      <td>2.0</td>\n",
       "      <td>5.0</td>\n",
       "    </tr>\n",
       "    <tr>\n",
       "      <th>Walc</th>\n",
       "      <td>395.0</td>\n",
       "      <td>2.291139</td>\n",
       "      <td>1.287897</td>\n",
       "      <td>1.0</td>\n",
       "      <td>1.0</td>\n",
       "      <td>2.0</td>\n",
       "      <td>3.0</td>\n",
       "      <td>5.0</td>\n",
       "    </tr>\n",
       "    <tr>\n",
       "      <th>health</th>\n",
       "      <td>395.0</td>\n",
       "      <td>3.554430</td>\n",
       "      <td>1.390303</td>\n",
       "      <td>1.0</td>\n",
       "      <td>3.0</td>\n",
       "      <td>4.0</td>\n",
       "      <td>5.0</td>\n",
       "      <td>5.0</td>\n",
       "    </tr>\n",
       "    <tr>\n",
       "      <th>absences</th>\n",
       "      <td>395.0</td>\n",
       "      <td>5.708861</td>\n",
       "      <td>8.003096</td>\n",
       "      <td>0.0</td>\n",
       "      <td>0.0</td>\n",
       "      <td>4.0</td>\n",
       "      <td>8.0</td>\n",
       "      <td>75.0</td>\n",
       "    </tr>\n",
       "    <tr>\n",
       "      <th>G1</th>\n",
       "      <td>395.0</td>\n",
       "      <td>10.908861</td>\n",
       "      <td>3.319195</td>\n",
       "      <td>3.0</td>\n",
       "      <td>8.0</td>\n",
       "      <td>11.0</td>\n",
       "      <td>13.0</td>\n",
       "      <td>19.0</td>\n",
       "    </tr>\n",
       "    <tr>\n",
       "      <th>G2</th>\n",
       "      <td>395.0</td>\n",
       "      <td>10.713924</td>\n",
       "      <td>3.761505</td>\n",
       "      <td>0.0</td>\n",
       "      <td>9.0</td>\n",
       "      <td>11.0</td>\n",
       "      <td>13.0</td>\n",
       "      <td>19.0</td>\n",
       "    </tr>\n",
       "    <tr>\n",
       "      <th>G3</th>\n",
       "      <td>395.0</td>\n",
       "      <td>10.415190</td>\n",
       "      <td>4.581443</td>\n",
       "      <td>0.0</td>\n",
       "      <td>8.0</td>\n",
       "      <td>11.0</td>\n",
       "      <td>14.0</td>\n",
       "      <td>20.0</td>\n",
       "    </tr>\n",
       "  </tbody>\n",
       "</table>\n",
       "</div>"
      ],
      "text/plain": [
       "            count       mean       std   min   25%   50%   75%   max\n",
       "age         395.0  16.696203  1.276043  15.0  16.0  17.0  18.0  22.0\n",
       "Medu        395.0   2.749367  1.094735   0.0   2.0   3.0   4.0   4.0\n",
       "Fedu        395.0   2.521519  1.088201   0.0   2.0   2.0   3.0   4.0\n",
       "traveltime  395.0   1.448101  0.697505   1.0   1.0   1.0   2.0   4.0\n",
       "studytime   395.0   2.035443  0.839240   1.0   1.0   2.0   2.0   4.0\n",
       "failures    360.0   0.347222  0.753076   0.0   0.0   0.0   0.0   3.0\n",
       "famrel      395.0   3.944304  0.896659   1.0   4.0   4.0   5.0   5.0\n",
       "freetime    395.0   3.235443  0.998862   1.0   3.0   3.0   4.0   5.0\n",
       "goout       395.0   3.108861  1.113278   1.0   2.0   3.0   4.0   5.0\n",
       "Dalc        395.0   1.481013  0.890741   1.0   1.0   1.0   2.0   5.0\n",
       "Walc        395.0   2.291139  1.287897   1.0   1.0   2.0   3.0   5.0\n",
       "health      395.0   3.554430  1.390303   1.0   3.0   4.0   5.0   5.0\n",
       "absences    395.0   5.708861  8.003096   0.0   0.0   4.0   8.0  75.0\n",
       "G1          395.0  10.908861  3.319195   3.0   8.0  11.0  13.0  19.0\n",
       "G2          395.0  10.713924  3.761505   0.0   9.0  11.0  13.0  19.0\n",
       "G3          395.0  10.415190  4.581443   0.0   8.0  11.0  14.0  20.0"
      ]
     },
     "execution_count": 9,
     "metadata": {},
     "output_type": "execute_result"
    }
   ],
   "source": [
    "#Statistics of our data\n",
    "#df.describe().show()\n",
    "df.toPandas().describe().transpose()"
   ]
  },
  {
   "cell_type": "code",
   "execution_count": 10,
   "metadata": {},
   "outputs": [
    {
     "name": "stdout",
     "output_type": "stream",
     "text": [
      "root\n",
      " |-- school: string (nullable = true)\n",
      " |-- sex: string (nullable = true)\n",
      " |-- age: integer (nullable = true)\n",
      " |-- address: string (nullable = true)\n",
      " |-- famsize: string (nullable = true)\n",
      " |-- Pstatus: string (nullable = true)\n",
      " |-- Medu: integer (nullable = true)\n",
      " |-- Fedu: integer (nullable = true)\n",
      " |-- Mjob: string (nullable = true)\n",
      " |-- Fjob: string (nullable = true)\n",
      " |-- reason: string (nullable = true)\n",
      " |-- guardian: string (nullable = true)\n",
      " |-- traveltime: integer (nullable = true)\n",
      " |-- studytime: integer (nullable = true)\n",
      " |-- failures: integer (nullable = true)\n",
      " |-- schoolsup: string (nullable = true)\n",
      " |-- famsup: string (nullable = true)\n",
      " |-- paid: string (nullable = true)\n",
      " |-- activities: string (nullable = true)\n",
      " |-- nursery: string (nullable = true)\n",
      " |-- higher: string (nullable = true)\n",
      " |-- internet: string (nullable = true)\n",
      " |-- romantic: string (nullable = true)\n",
      " |-- famrel: integer (nullable = true)\n",
      " |-- freetime: integer (nullable = true)\n",
      " |-- goout: integer (nullable = true)\n",
      " |-- Dalc: integer (nullable = true)\n",
      " |-- Walc: integer (nullable = true)\n",
      " |-- health: integer (nullable = true)\n",
      " |-- absences: integer (nullable = true)\n",
      " |-- G1: integer (nullable = true)\n",
      " |-- G2: integer (nullable = true)\n",
      " |-- G3: integer (nullable = true)\n",
      "\n"
     ]
    }
   ],
   "source": [
    "df.printSchema()"
   ]
  },
  {
   "cell_type": "code",
   "execution_count": 11,
   "metadata": {},
   "outputs": [
    {
     "data": {
      "text/plain": [
       "age           0.466270\n",
       "Medu         -0.318381\n",
       "Fedu         -0.031672\n",
       "traveltime    1.607029\n",
       "studytime     0.632142\n",
       "failures      2.320743\n",
       "famrel       -0.951882\n",
       "freetime     -0.163351\n",
       "goout         0.116502\n",
       "Dalc          2.190762\n",
       "Walc          0.611960\n",
       "health       -0.494604\n",
       "absences      3.671579\n",
       "G1            0.240613\n",
       "G2           -0.431645\n",
       "G3           -0.732672\n",
       "dtype: float64"
      ]
     },
     "execution_count": 11,
     "metadata": {},
     "output_type": "execute_result"
    }
   ],
   "source": [
    "df.toPandas().skew(axis=0, skipna=True)"
   ]
  },
  {
   "cell_type": "code",
   "execution_count": 12,
   "metadata": {},
   "outputs": [
    {
     "data": {
      "text/plain": [
       "35"
      ]
     },
     "execution_count": 12,
     "metadata": {},
     "output_type": "execute_result"
    }
   ],
   "source": [
    "df.where(df.failures.isNull()).count()"
   ]
  },
  {
   "cell_type": "code",
   "execution_count": 13,
   "metadata": {},
   "outputs": [
    {
     "data": {
      "text/plain": [
       "51"
      ]
     },
     "execution_count": 13,
     "metadata": {},
     "output_type": "execute_result"
    }
   ],
   "source": [
    "df.where(df.activities.isNull()).count()"
   ]
  },
  {
   "cell_type": "code",
   "execution_count": 14,
   "metadata": {},
   "outputs": [],
   "source": [
    "import matplotlib.pyplot as plt"
   ]
  },
  {
   "cell_type": "code",
   "execution_count": 15,
   "metadata": {},
   "outputs": [
    {
     "data": {
      "image/png": "[encoded data removed]",
      "text/plain": [
       "<Figure size 1440x720 with 1 Axes>"
      ]
     },
     "metadata": {},
     "output_type": "display_data"
    }
   ],
   "source": [
    "df.toPandas().boxplot(figsize=(20,10))\n",
    "plt.show()"
   ]
  },
  {
   "cell_type": "code",
   "execution_count": 16,
   "metadata": {},
   "outputs": [],
   "source": [
    "# select required columns\n",
    "dropColumns = ['school', 'address', 'Mjob', 'Fjob', 'reason', 'guardian', 'nursery', 'Walc']\n",
    "df = df.drop(*dropColumns)"
   ]
  },
  {
   "cell_type": "code",
   "execution_count": 17,
   "metadata": {},
   "outputs": [
    {
     "name": "stdout",
     "output_type": "stream",
     "text": [
      "(395, 25)\n"
     ]
    }
   ],
   "source": [
    "print((df.count(), len(df.columns)))"
   ]
  },
  {
   "cell_type": "code",
   "execution_count": 18,
   "metadata": {},
   "outputs": [
    {
     "data": {
      "text/plain": [
       "['sex',\n",
       " 'age',\n",
       " 'famsize',\n",
       " 'Pstatus',\n",
       " 'Medu',\n",
       " 'Fedu',\n",
       " 'traveltime',\n",
       " 'studytime',\n",
       " 'failures',\n",
       " 'schoolsup',\n",
       " 'famsup',\n",
       " 'paid',\n",
       " 'activities',\n",
       " 'higher',\n",
       " 'internet',\n",
       " 'romantic',\n",
       " 'famrel',\n",
       " 'freetime',\n",
       " 'goout',\n",
       " 'Dalc',\n",
       " 'health',\n",
       " 'absences',\n",
       " 'G1',\n",
       " 'G2',\n",
       " 'G3']"
      ]
     },
     "execution_count": 18,
     "metadata": {},
     "output_type": "execute_result"
    }
   ],
   "source": [
    "df.columns"
   ]
  },
  {
   "cell_type": "code",
   "execution_count": 19,
   "metadata": {},
   "outputs": [
    {
     "data": {
      "text/plain": [
       "sex            0\n",
       "age            0\n",
       "famsize        0\n",
       "Pstatus        0\n",
       "Medu           0\n",
       "Fedu           0\n",
       "traveltime     0\n",
       "studytime      0\n",
       "failures      35\n",
       "schoolsup      0\n",
       "famsup         0\n",
       "paid           0\n",
       "activities    51\n",
       "higher         0\n",
       "internet       0\n",
       "romantic       0\n",
       "famrel         0\n",
       "freetime       0\n",
       "goout          0\n",
       "Dalc           0\n",
       "health         0\n",
       "absences       0\n",
       "G1             0\n",
       "G2             0\n",
       "G3             0\n",
       "dtype: int64"
      ]
     },
     "execution_count": 19,
     "metadata": {},
     "output_type": "execute_result"
    }
   ],
   "source": [
    "# checking nulls in the columns\n",
    "df.toPandas().isnull().sum()"
   ]
  },
  {
   "cell_type": "code",
   "execution_count": 20,
   "metadata": {},
   "outputs": [
    {
     "name": "stdout",
     "output_type": "stream",
     "text": [
      "+---+---+-------+-------+----+----+----------+---------+--------+---------+------+----+----------+------+--------+--------+------+--------+-----+----+------+--------+---+---+---+\n",
      "|sex|age|famsize|Pstatus|Medu|Fedu|traveltime|studytime|failures|schoolsup|famsup|paid|activities|higher|internet|romantic|famrel|freetime|goout|Dalc|health|absences| G1| G2| G3|\n",
      "+---+---+-------+-------+----+----+----------+---------+--------+---------+------+----+----------+------+--------+--------+------+--------+-----+----+------+--------+---+---+---+\n",
      "|  0|  0|      0|      0|   0|   0|         0|        0|      35|        0|     0|   0|        51|     0|       0|       0|     0|       0|    0|   0|     0|       0|  0|  0|  0|\n",
      "+---+---+-------+-------+----+----+----------+---------+--------+---------+------+----+----------+------+--------+--------+------+--------+-----+----+------+--------+---+---+---+\n",
      "\n"
     ]
    }
   ],
   "source": [
    "from pyspark.sql.functions import isnan, when, count, col\n",
    "df.select([count(when(isnan(c) | col(c).isNull(), c)).alias(c) for c in df.columns]).show()"
   ]
  },
  {
   "cell_type": "code",
   "execution_count": 21,
   "metadata": {},
   "outputs": [],
   "source": [
    "# Drop column activities because we don’t want to reduce number of rows of the dataset due to missing values \n",
    "# in a particular column. If we do df.na.drop, it will remove all the rows with missing values.\n",
    "df = df.drop('activities')"
   ]
  },
  {
   "cell_type": "code",
   "execution_count": 22,
   "metadata": {},
   "outputs": [
    {
     "name": "stdout",
     "output_type": "stream",
     "text": [
      "(395, 24)\n"
     ]
    }
   ],
   "source": [
    "print((df.count(), len(df.columns)))"
   ]
  },
  {
   "cell_type": "code",
   "execution_count": 23,
   "metadata": {},
   "outputs": [
    {
     "name": "stdout",
     "output_type": "stream",
     "text": [
      "+--------+-----+\n",
      "|failures|count|\n",
      "+--------+-----+\n",
      "|    null|   35|\n",
      "|       1|   48|\n",
      "|       3|   15|\n",
      "|       2|   16|\n",
      "|       0|  281|\n",
      "+--------+-----+\n",
      "\n"
     ]
    }
   ],
   "source": [
    "df.groupBy('failures').count().show()"
   ]
  },
  {
   "cell_type": "code",
   "execution_count": 24,
   "metadata": {},
   "outputs": [],
   "source": [
    "# Impute missing values in column failures\n",
    "students = df.na.fill({'failures': 0})"
   ]
  },
  {
   "cell_type": "code",
   "execution_count": 25,
   "metadata": {},
   "outputs": [
    {
     "name": "stdout",
     "output_type": "stream",
     "text": [
      "+--------+-----+\n",
      "|failures|count|\n",
      "+--------+-----+\n",
      "|       1|   48|\n",
      "|       3|   15|\n",
      "|       2|   16|\n",
      "|       0|  316|\n",
      "+--------+-----+\n",
      "\n"
     ]
    }
   ],
   "source": [
    "students.groupBy('failures').count().show()"
   ]
  },
  {
   "cell_type": "code",
   "execution_count": 26,
   "metadata": {},
   "outputs": [
    {
     "name": "stdout",
     "output_type": "stream",
     "text": [
      "+---+---+-------+-------+----+----+----------+---------+--------+---------+------+----+------+--------+--------+------+--------+-----+----+------+--------+---+---+---+\n",
      "|sex|age|famsize|Pstatus|Medu|Fedu|traveltime|studytime|failures|schoolsup|famsup|paid|higher|internet|romantic|famrel|freetime|goout|Dalc|health|absences| G1| G2| G3|\n",
      "+---+---+-------+-------+----+----+----------+---------+--------+---------+------+----+------+--------+--------+------+--------+-----+----+------+--------+---+---+---+\n",
      "|  0|  0|      0|      0|   0|   0|         0|        0|       0|        0|     0|   0|     0|       0|       0|     0|       0|    0|   0|     0|       0|  0|  0|  0|\n",
      "+---+---+-------+-------+----+----+----------+---------+--------+---------+------+----+------+--------+--------+------+--------+-----+----+------+--------+---+---+---+\n",
      "\n"
     ]
    }
   ],
   "source": [
    "students.select([count(when(isnan(c) | col(c).isNull(), c)).alias(c) for c in students.columns]).show()"
   ]
  },
  {
   "cell_type": "code",
   "execution_count": null,
   "metadata": {},
   "outputs": [],
   "source": []
  },
  {
   "cell_type": "code",
   "execution_count": 27,
   "metadata": {},
   "outputs": [],
   "source": [
    "from pyspark.sql import functions as F\n",
    "students = students.withColumn('status',(when(col(\"G3\") >= 10, 'Pass').otherwise('Fail')))"
   ]
  },
  {
   "cell_type": "code",
   "execution_count": 28,
   "metadata": {},
   "outputs": [
    {
     "data": {
      "text/plain": [
       "[Row(sex='F', age=18, famsize='GT3', Pstatus='A', Medu=4, Fedu=4, traveltime=2, studytime=2, failures=0, schoolsup='yes', famsup='no', paid='no', higher='yes', internet='no', romantic='no', famrel=4, freetime=3, goout=4, Dalc=1, health=3, absences=6, G1=5, G2=6, G3=6, status='Fail'),\n",
       " Row(sex='F', age=17, famsize='GT3', Pstatus='T', Medu=1, Fedu=1, traveltime=1, studytime=2, failures=0, schoolsup='no', famsup='yes', paid='no', higher='yes', internet='yes', romantic='no', famrel=5, freetime=3, goout=3, Dalc=1, health=3, absences=4, G1=5, G2=5, G3=6, status='Fail')]"
      ]
     },
     "execution_count": 28,
     "metadata": {},
     "output_type": "execute_result"
    }
   ],
   "source": [
    "students.head(2)"
   ]
  },
  {
   "cell_type": "code",
   "execution_count": 29,
   "metadata": {},
   "outputs": [
    {
     "data": {
      "text/html": [
       "<div>\n",
       "<style scoped>\n",
       "    .dataframe tbody tr th:only-of-type {\n",
       "        vertical-align: middle;\n",
       "    }\n",
       "\n",
       "    .dataframe tbody tr th {\n",
       "        vertical-align: top;\n",
       "    }\n",
       "\n",
       "    .dataframe thead th {\n",
       "        text-align: right;\n",
       "    }\n",
       "</style>\n",
       "<table border=\"1\" class=\"dataframe\">\n",
       "  <thead>\n",
       "    <tr style=\"text-align: right;\">\n",
       "      <th></th>\n",
       "      <th>sex</th>\n",
       "      <th>age</th>\n",
       "      <th>famsize</th>\n",
       "      <th>Pstatus</th>\n",
       "      <th>Medu</th>\n",
       "      <th>Fedu</th>\n",
       "      <th>traveltime</th>\n",
       "      <th>studytime</th>\n",
       "      <th>failures</th>\n",
       "      <th>schoolsup</th>\n",
       "      <th>...</th>\n",
       "      <th>famrel</th>\n",
       "      <th>freetime</th>\n",
       "      <th>goout</th>\n",
       "      <th>Dalc</th>\n",
       "      <th>health</th>\n",
       "      <th>absences</th>\n",
       "      <th>G1</th>\n",
       "      <th>G2</th>\n",
       "      <th>G3</th>\n",
       "      <th>status</th>\n",
       "    </tr>\n",
       "  </thead>\n",
       "  <tbody>\n",
       "    <tr>\n",
       "      <th>0</th>\n",
       "      <td>F</td>\n",
       "      <td>18</td>\n",
       "      <td>GT3</td>\n",
       "      <td>A</td>\n",
       "      <td>4</td>\n",
       "      <td>4</td>\n",
       "      <td>2</td>\n",
       "      <td>2</td>\n",
       "      <td>0</td>\n",
       "      <td>yes</td>\n",
       "      <td>...</td>\n",
       "      <td>4</td>\n",
       "      <td>3</td>\n",
       "      <td>4</td>\n",
       "      <td>1</td>\n",
       "      <td>3</td>\n",
       "      <td>6</td>\n",
       "      <td>5</td>\n",
       "      <td>6</td>\n",
       "      <td>6</td>\n",
       "      <td>Fail</td>\n",
       "    </tr>\n",
       "    <tr>\n",
       "      <th>1</th>\n",
       "      <td>F</td>\n",
       "      <td>17</td>\n",
       "      <td>GT3</td>\n",
       "      <td>T</td>\n",
       "      <td>1</td>\n",
       "      <td>1</td>\n",
       "      <td>1</td>\n",
       "      <td>2</td>\n",
       "      <td>0</td>\n",
       "      <td>no</td>\n",
       "      <td>...</td>\n",
       "      <td>5</td>\n",
       "      <td>3</td>\n",
       "      <td>3</td>\n",
       "      <td>1</td>\n",
       "      <td>3</td>\n",
       "      <td>4</td>\n",
       "      <td>5</td>\n",
       "      <td>5</td>\n",
       "      <td>6</td>\n",
       "      <td>Fail</td>\n",
       "    </tr>\n",
       "    <tr>\n",
       "      <th>2</th>\n",
       "      <td>F</td>\n",
       "      <td>15</td>\n",
       "      <td>LE3</td>\n",
       "      <td>T</td>\n",
       "      <td>1</td>\n",
       "      <td>1</td>\n",
       "      <td>1</td>\n",
       "      <td>2</td>\n",
       "      <td>3</td>\n",
       "      <td>yes</td>\n",
       "      <td>...</td>\n",
       "      <td>4</td>\n",
       "      <td>3</td>\n",
       "      <td>2</td>\n",
       "      <td>2</td>\n",
       "      <td>3</td>\n",
       "      <td>10</td>\n",
       "      <td>7</td>\n",
       "      <td>8</td>\n",
       "      <td>10</td>\n",
       "      <td>Pass</td>\n",
       "    </tr>\n",
       "    <tr>\n",
       "      <th>3</th>\n",
       "      <td>F</td>\n",
       "      <td>15</td>\n",
       "      <td>GT3</td>\n",
       "      <td>T</td>\n",
       "      <td>4</td>\n",
       "      <td>2</td>\n",
       "      <td>1</td>\n",
       "      <td>3</td>\n",
       "      <td>0</td>\n",
       "      <td>no</td>\n",
       "      <td>...</td>\n",
       "      <td>3</td>\n",
       "      <td>2</td>\n",
       "      <td>2</td>\n",
       "      <td>1</td>\n",
       "      <td>5</td>\n",
       "      <td>2</td>\n",
       "      <td>15</td>\n",
       "      <td>14</td>\n",
       "      <td>15</td>\n",
       "      <td>Pass</td>\n",
       "    </tr>\n",
       "    <tr>\n",
       "      <th>4</th>\n",
       "      <td>F</td>\n",
       "      <td>16</td>\n",
       "      <td>GT3</td>\n",
       "      <td>T</td>\n",
       "      <td>3</td>\n",
       "      <td>3</td>\n",
       "      <td>1</td>\n",
       "      <td>2</td>\n",
       "      <td>0</td>\n",
       "      <td>no</td>\n",
       "      <td>...</td>\n",
       "      <td>4</td>\n",
       "      <td>3</td>\n",
       "      <td>2</td>\n",
       "      <td>1</td>\n",
       "      <td>5</td>\n",
       "      <td>4</td>\n",
       "      <td>6</td>\n",
       "      <td>10</td>\n",
       "      <td>10</td>\n",
       "      <td>Pass</td>\n",
       "    </tr>\n",
       "  </tbody>\n",
       "</table>\n",
       "<p>5 rows × 25 columns</p>\n",
       "</div>"
      ],
      "text/plain": [
       "  sex  age famsize Pstatus  Medu  Fedu  traveltime  studytime  failures  \\\n",
       "0   F   18     GT3       A     4     4           2          2         0   \n",
       "1   F   17     GT3       T     1     1           1          2         0   \n",
       "2   F   15     LE3       T     1     1           1          2         3   \n",
       "3   F   15     GT3       T     4     2           1          3         0   \n",
       "4   F   16     GT3       T     3     3           1          2         0   \n",
       "\n",
       "  schoolsup   ...   famrel freetime goout Dalc health  absences  G1  G2  G3  \\\n",
       "0       yes   ...        4        3     4    1      3         6   5   6   6   \n",
       "1        no   ...        5        3     3    1      3         4   5   5   6   \n",
       "2       yes   ...        4        3     2    2      3        10   7   8  10   \n",
       "3        no   ...        3        2     2    1      5         2  15  14  15   \n",
       "4        no   ...        4        3     2    1      5         4   6  10  10   \n",
       "\n",
       "   status  \n",
       "0    Fail  \n",
       "1    Fail  \n",
       "2    Pass  \n",
       "3    Pass  \n",
       "4    Pass  \n",
       "\n",
       "[5 rows x 25 columns]"
      ]
     },
     "execution_count": 29,
     "metadata": {},
     "output_type": "execute_result"
    }
   ],
   "source": [
    "students.toPandas().head()"
   ]
  },
  {
   "cell_type": "code",
   "execution_count": 30,
   "metadata": {},
   "outputs": [
    {
     "name": "stdout",
     "output_type": "stream",
     "text": [
      "root\n",
      " |-- sex: string (nullable = true)\n",
      " |-- age: integer (nullable = true)\n",
      " |-- famsize: string (nullable = true)\n",
      " |-- Pstatus: string (nullable = true)\n",
      " |-- Medu: integer (nullable = true)\n",
      " |-- Fedu: integer (nullable = true)\n",
      " |-- traveltime: integer (nullable = true)\n",
      " |-- studytime: integer (nullable = true)\n",
      " |-- failures: integer (nullable = false)\n",
      " |-- schoolsup: string (nullable = true)\n",
      " |-- famsup: string (nullable = true)\n",
      " |-- paid: string (nullable = true)\n",
      " |-- higher: string (nullable = true)\n",
      " |-- internet: string (nullable = true)\n",
      " |-- romantic: string (nullable = true)\n",
      " |-- famrel: integer (nullable = true)\n",
      " |-- freetime: integer (nullable = true)\n",
      " |-- goout: integer (nullable = true)\n",
      " |-- Dalc: integer (nullable = true)\n",
      " |-- health: integer (nullable = true)\n",
      " |-- absences: integer (nullable = true)\n",
      " |-- G1: integer (nullable = true)\n",
      " |-- G2: integer (nullable = true)\n",
      " |-- G3: integer (nullable = true)\n",
      " |-- status: string (nullable = false)\n",
      "\n"
     ]
    }
   ],
   "source": [
    "students.printSchema()"
   ]
  },
  {
   "cell_type": "code",
   "execution_count": 31,
   "metadata": {},
   "outputs": [
    {
     "name": "stdout",
     "output_type": "stream",
     "text": [
      "(395, 25)\n"
     ]
    }
   ],
   "source": [
    "print((students.count(), len(students.columns)))"
   ]
  },
  {
   "cell_type": "code",
   "execution_count": 32,
   "metadata": {},
   "outputs": [],
   "source": [
    "# Read new dataset and apply same transformations as first dataset\n",
    "df2 = spark.read.csv('./student-por.csv', header=True, inferSchema=True)"
   ]
  },
  {
   "cell_type": "code",
   "execution_count": 33,
   "metadata": {},
   "outputs": [
    {
     "name": "stdout",
     "output_type": "stream",
     "text": [
      "(649, 33)\n"
     ]
    }
   ],
   "source": [
    "print((df2.count(), len(df2.columns)))"
   ]
  },
  {
   "cell_type": "code",
   "execution_count": 34,
   "metadata": {},
   "outputs": [
    {
     "data": {
      "text/plain": [
       "[('school', 'string'),\n",
       " ('sex', 'string'),\n",
       " ('age', 'int'),\n",
       " ('address', 'string'),\n",
       " ('famsize', 'string'),\n",
       " ('Pstatus', 'string'),\n",
       " ('Medu', 'int'),\n",
       " ('Fedu', 'int'),\n",
       " ('Mjob', 'string'),\n",
       " ('Fjob', 'string'),\n",
       " ('reason', 'string'),\n",
       " ('guardian', 'string'),\n",
       " ('traveltime', 'int'),\n",
       " ('studytime', 'int'),\n",
       " ('failures', 'int'),\n",
       " ('schoolsup', 'string'),\n",
       " ('famsup', 'string'),\n",
       " ('paid', 'string'),\n",
       " ('activities', 'string'),\n",
       " ('nursery', 'string'),\n",
       " ('higher', 'string'),\n",
       " ('internet', 'string'),\n",
       " ('romantic', 'string'),\n",
       " ('famrel', 'int'),\n",
       " ('freetime', 'int'),\n",
       " ('goout', 'int'),\n",
       " ('Dalc', 'int'),\n",
       " ('Walc', 'int'),\n",
       " ('health', 'int'),\n",
       " ('absences', 'int'),\n",
       " ('G1', 'int'),\n",
       " ('G2', 'int'),\n",
       " ('G3', 'int')]"
      ]
     },
     "execution_count": 34,
     "metadata": {},
     "output_type": "execute_result"
    }
   ],
   "source": [
    "df2.dtypes"
   ]
  },
  {
   "cell_type": "code",
   "execution_count": 35,
   "metadata": {},
   "outputs": [
    {
     "name": "stdout",
     "output_type": "stream",
     "text": [
      "+------+---+---+-------+-------+-------+----+----+----+----+------+--------+----------+---------+--------+---------+------+----+----------+-------+------+--------+--------+------+--------+-----+----+----+------+--------+---+---+---+\n",
      "|school|sex|age|address|famsize|Pstatus|Medu|Fedu|Mjob|Fjob|reason|guardian|traveltime|studytime|failures|schoolsup|famsup|paid|activities|nursery|higher|internet|romantic|famrel|freetime|goout|Dalc|Walc|health|absences| G1| G2| G3|\n",
      "+------+---+---+-------+-------+-------+----+----+----+----+------+--------+----------+---------+--------+---------+------+----+----------+-------+------+--------+--------+------+--------+-----+----+----+------+--------+---+---+---+\n",
      "|     0|  0|  0|      0|      0|      0|   0|   0|   0|   0|     0|       0|         0|        0|       0|        0|     0|   0|         0|      0|     0|       0|       0|     0|       0|    0|   0|   0|     0|       0|  0|  0|  0|\n",
      "+------+---+---+-------+-------+-------+----+----+----+----+------+--------+----------+---------+--------+---------+------+----+----------+-------+------+--------+--------+------+--------+-----+----+----+------+--------+---+---+---+\n",
      "\n"
     ]
    }
   ],
   "source": [
    "# checking nulls in the columns\n",
    "df2.select([count(when(isnan(c) | col(c).isNull(), c)).alias(c) for c in df2.columns]).show()"
   ]
  },
  {
   "cell_type": "code",
   "execution_count": 36,
   "metadata": {},
   "outputs": [],
   "source": [
    "# select required columns from new dataset \n",
    "dropColumns = ['school', 'address', 'Mjob', 'Fjob', 'reason', 'guardian', 'nursery', 'Walc', 'activities']\n",
    "df2 = df2.drop(*dropColumns)"
   ]
  },
  {
   "cell_type": "code",
   "execution_count": 37,
   "metadata": {},
   "outputs": [
    {
     "name": "stdout",
     "output_type": "stream",
     "text": [
      "(649, 24)\n"
     ]
    }
   ],
   "source": [
    "print((df2.count(), len(df2.columns)))"
   ]
  },
  {
   "cell_type": "code",
   "execution_count": 38,
   "metadata": {},
   "outputs": [],
   "source": [
    "# Derive new column status\n",
    "students2 = df2.withColumn('status',(when(col(\"G3\") >= 10, 'Pass').otherwise('Fail')))"
   ]
  },
  {
   "cell_type": "code",
   "execution_count": 39,
   "metadata": {},
   "outputs": [
    {
     "name": "stdout",
     "output_type": "stream",
     "text": [
      "(649, 25)\n"
     ]
    }
   ],
   "source": [
    "print((students2.count(), len(students2.columns)))"
   ]
  },
  {
   "cell_type": "code",
   "execution_count": 40,
   "metadata": {},
   "outputs": [
    {
     "data": {
      "text/plain": [
       "[Row(sex='F', age=18, famsize='GT3', Pstatus='A', Medu=4, Fedu=4, traveltime=2, studytime=2, failures=0, schoolsup='yes', famsup='no', paid='no', higher='yes', internet='no', romantic='no', famrel=4, freetime=3, goout=4, Dalc=1, health=3, absences=4, G1=0, G2=11, G3=11, status='Pass'),\n",
       " Row(sex='F', age=17, famsize='GT3', Pstatus='T', Medu=1, Fedu=1, traveltime=1, studytime=2, failures=0, schoolsup='no', famsup='yes', paid='no', higher='yes', internet='yes', romantic='no', famrel=5, freetime=3, goout=3, Dalc=1, health=3, absences=2, G1=9, G2=11, G3=11, status='Pass')]"
      ]
     },
     "execution_count": 40,
     "metadata": {},
     "output_type": "execute_result"
    }
   ],
   "source": [
    "students2.head(2)"
   ]
  },
  {
   "cell_type": "code",
   "execution_count": 41,
   "metadata": {},
   "outputs": [],
   "source": [
    "# Data integration with new dataset students-por.csv\n",
    "data = students.union(students2)"
   ]
  },
  {
   "cell_type": "code",
   "execution_count": 42,
   "metadata": {},
   "outputs": [
    {
     "name": "stdout",
     "output_type": "stream",
     "text": [
      "(1044, 25)\n"
     ]
    }
   ],
   "source": [
    "print((data.count(), len(data.columns)))"
   ]
  },
  {
   "cell_type": "code",
   "execution_count": 43,
   "metadata": {},
   "outputs": [
    {
     "data": {
      "text/plain": [
       "['sex',\n",
       " 'age',\n",
       " 'famsize',\n",
       " 'Pstatus',\n",
       " 'Medu',\n",
       " 'Fedu',\n",
       " 'traveltime',\n",
       " 'studytime',\n",
       " 'failures',\n",
       " 'schoolsup',\n",
       " 'famsup',\n",
       " 'paid',\n",
       " 'higher',\n",
       " 'internet',\n",
       " 'romantic',\n",
       " 'famrel',\n",
       " 'freetime',\n",
       " 'goout',\n",
       " 'Dalc',\n",
       " 'health',\n",
       " 'absences',\n",
       " 'G1',\n",
       " 'G2',\n",
       " 'G3',\n",
       " 'status']"
      ]
     },
     "execution_count": 43,
     "metadata": {},
     "output_type": "execute_result"
    }
   ],
   "source": [
    "data.toPandas().head()\n",
    "data.columns"
   ]
  },
  {
   "cell_type": "code",
   "execution_count": null,
   "metadata": {},
   "outputs": [],
   "source": []
  },
  {
   "cell_type": "code",
   "execution_count": null,
   "metadata": {},
   "outputs": [],
   "source": []
  },
  {
   "cell_type": "code",
   "execution_count": 44,
   "metadata": {},
   "outputs": [
    {
     "name": "stdout",
     "output_type": "stream",
     "text": [
      "+---+---+-------+-------+----+----+----------+---------+--------+---------+------+----+------+--------+--------+------+--------+-----+----+------+--------+---+---+---+------+\n",
      "|sex|age|famsize|Pstatus|Medu|Fedu|traveltime|studytime|failures|schoolsup|famsup|paid|higher|internet|romantic|famrel|freetime|goout|Dalc|health|absences| G1| G2| G3|status|\n",
      "+---+---+-------+-------+----+----+----------+---------+--------+---------+------+----+------+--------+--------+------+--------+-----+----+------+--------+---+---+---+------+\n",
      "|  F| 18|    GT3|      A|   4|   4|         2|        2|       0|      yes|    no|  no|   yes|      no|      no|     4|       3|    4|   1|     3|       6|  5|  6|  6|  Fail|\n",
      "|  F| 17|    GT3|      T|   1|   1|         1|        2|       0|       no|   yes|  no|   yes|     yes|      no|     5|       3|    3|   1|     3|       4|  5|  5|  6|  Fail|\n",
      "+---+---+-------+-------+----+----+----------+---------+--------+---------+------+----+------+--------+--------+------+--------+-----+----+------+--------+---+---+---+------+\n",
      "only showing top 2 rows\n",
      "\n"
     ]
    }
   ],
   "source": [
    "data.show(2)"
   ]
  },
  {
   "cell_type": "code",
   "execution_count": 45,
   "metadata": {},
   "outputs": [
    {
     "data": {
      "text/plain": [
       "[('sex', 'string'),\n",
       " ('age', 'int'),\n",
       " ('famsize', 'string'),\n",
       " ('Pstatus', 'string'),\n",
       " ('Medu', 'int'),\n",
       " ('Fedu', 'int'),\n",
       " ('traveltime', 'int'),\n",
       " ('studytime', 'int'),\n",
       " ('failures', 'int'),\n",
       " ('schoolsup', 'string'),\n",
       " ('famsup', 'string'),\n",
       " ('paid', 'string'),\n",
       " ('higher', 'string'),\n",
       " ('internet', 'string'),\n",
       " ('romantic', 'string'),\n",
       " ('famrel', 'int'),\n",
       " ('freetime', 'int'),\n",
       " ('goout', 'int'),\n",
       " ('Dalc', 'int'),\n",
       " ('health', 'int'),\n",
       " ('absences', 'int'),\n",
       " ('G1', 'int'),\n",
       " ('G2', 'int'),\n",
       " ('G3', 'int'),\n",
       " ('status', 'string')]"
      ]
     },
     "execution_count": 45,
     "metadata": {},
     "output_type": "execute_result"
    }
   ],
   "source": [
    "data.dtypes"
   ]
  },
  {
   "cell_type": "code",
   "execution_count": 46,
   "metadata": {},
   "outputs": [],
   "source": [
    "# Remove G3 as status is derived from it\n",
    "data = data.drop('G3')"
   ]
  },
  {
   "cell_type": "code",
   "execution_count": 47,
   "metadata": {},
   "outputs": [
    {
     "data": {
      "text/plain": [
       "['sex',\n",
       " 'age',\n",
       " 'famsize',\n",
       " 'Pstatus',\n",
       " 'Medu',\n",
       " 'Fedu',\n",
       " 'traveltime',\n",
       " 'studytime',\n",
       " 'failures',\n",
       " 'schoolsup',\n",
       " 'famsup',\n",
       " 'paid',\n",
       " 'higher',\n",
       " 'internet',\n",
       " 'romantic',\n",
       " 'famrel',\n",
       " 'freetime',\n",
       " 'goout',\n",
       " 'Dalc',\n",
       " 'health',\n",
       " 'absences',\n",
       " 'G1',\n",
       " 'G2',\n",
       " 'status']"
      ]
     },
     "execution_count": 47,
     "metadata": {},
     "output_type": "execute_result"
    }
   ],
   "source": [
    "data.columns"
   ]
  },
  {
   "cell_type": "code",
   "execution_count": null,
   "metadata": {},
   "outputs": [],
   "source": []
  },
  {
   "cell_type": "code",
   "execution_count": null,
   "metadata": {},
   "outputs": [],
   "source": []
  },
  {
   "cell_type": "code",
   "execution_count": 48,
   "metadata": {},
   "outputs": [
    {
     "name": "stdout",
     "output_type": "stream",
     "text": [
      "+---+---+-------+-------+----+----+----------+---------+--------+---------+------+----+------+--------+--------+------+--------+-----+----+------+--------+---+---+------+\n",
      "|sex|age|famsize|Pstatus|Medu|Fedu|traveltime|studytime|failures|schoolsup|famsup|paid|higher|internet|romantic|famrel|freetime|goout|Dalc|health|absences| G1| G2|status|\n",
      "+---+---+-------+-------+----+----+----------+---------+--------+---------+------+----+------+--------+--------+------+--------+-----+----+------+--------+---+---+------+\n",
      "|  F| 18|    GT3|      A|   4|   4|         2|        2|       0|      yes|    no|  no|   yes|      no|      no|     4|       3|    4|   1|     3|       6|  5|  6|  Fail|\n",
      "|  F| 17|    GT3|      T|   1|   1|         1|        2|       0|       no|   yes|  no|   yes|     yes|      no|     5|       3|    3|   1|     3|       4|  5|  5|  Fail|\n",
      "+---+---+-------+-------+----+----+----------+---------+--------+---------+------+----+------+--------+--------+------+--------+-----+----+------+--------+---+---+------+\n",
      "only showing top 2 rows\n",
      "\n"
     ]
    }
   ],
   "source": [
    "data.show(2)"
   ]
  },
  {
   "cell_type": "code",
   "execution_count": 49,
   "metadata": {},
   "outputs": [
    {
     "name": "stdout",
     "output_type": "stream",
     "text": [
      "(1044, 24)\n"
     ]
    }
   ],
   "source": [
    "print((data.count(), len(data.columns)))"
   ]
  },
  {
   "cell_type": "code",
   "execution_count": 50,
   "metadata": {},
   "outputs": [
    {
     "name": "stdout",
     "output_type": "stream",
     "text": [
      "['sex', 'famsize', 'Pstatus', 'schoolsup', 'famsup', 'paid', 'higher', 'internet', 'romantic']\n"
     ]
    }
   ],
   "source": [
    "# Modelling\n",
    "# Decision Tree\n",
    "from pyspark.ml.feature import StringIndexer, OneHotEncoder, VectorAssembler\n",
    "from pyspark.ml import Pipeline\n",
    "\n",
    "# categorical columns\n",
    "categorical_columns = ['sex', 'famsize', 'Pstatus', 'schoolsup', 'famsup', 'paid', 'higher', 'internet', 'romantic']\n",
    "print(categorical_columns)"
   ]
  },
  {
   "cell_type": "code",
   "execution_count": 51,
   "metadata": {},
   "outputs": [],
   "source": [
    "stringindexer_stages = [StringIndexer(inputCol=c, outputCol='strindexed_' + c) for c in categorical_columns]\n",
    "# encode label column and add it to stringindexer_stages\n",
    "stringindexer_stages += [StringIndexer(inputCol='status', outputCol='label')]"
   ]
  },
  {
   "cell_type": "code",
   "execution_count": 52,
   "metadata": {},
   "outputs": [],
   "source": [
    "onehotencoder_stages = [OneHotEncoder(inputCol='strindexed_' + c, outputCol='onehot_' + c) for c in categorical_columns]"
   ]
  },
  {
   "cell_type": "code",
   "execution_count": 53,
   "metadata": {},
   "outputs": [],
   "source": [
    "feature_columns = ['onehot_' + c for c in categorical_columns]\n",
    "feature_columns += ['age', 'Medu', 'Fedu', 'traveltime', 'studytime', 'failures', 'famrel', 'freetime', 'goout', 'Dalc', 'health', 'absences', 'G1', 'G2']\n",
    "vectorassembler_stage = VectorAssembler(inputCols=feature_columns, outputCol='features')"
   ]
  },
  {
   "cell_type": "code",
   "execution_count": 54,
   "metadata": {},
   "outputs": [],
   "source": [
    "# all stages\n",
    "all_stages = stringindexer_stages + onehotencoder_stages + [vectorassembler_stage]\n",
    "pipeline = Pipeline(stages=all_stages)"
   ]
  },
  {
   "cell_type": "code",
   "execution_count": 55,
   "metadata": {},
   "outputs": [],
   "source": [
    "pipeline_model = pipeline.fit(data)"
   ]
  },
  {
   "cell_type": "code",
   "execution_count": 56,
   "metadata": {},
   "outputs": [
    {
     "name": "stdout",
     "output_type": "stream",
     "text": [
      "+-------------+--------------+--------------+----------------+-------------+-------------+-------------+---------------+---------------+---+----+----+----------+---------+--------+------+--------+-----+----+------+--------+---+---+--------------------+-----+\n",
      "|   onehot_sex|onehot_famsize|onehot_Pstatus|onehot_schoolsup|onehot_famsup|  onehot_paid|onehot_higher|onehot_internet|onehot_romantic|age|Medu|Fedu|traveltime|studytime|failures|famrel|freetime|goout|Dalc|health|absences| G1| G2|            features|label|\n",
      "+-------------+--------------+--------------+----------------+-------------+-------------+-------------+---------------+---------------+---+----+----+----------+---------+--------+------+--------+-----+----+------+--------+---+---+--------------------+-----+\n",
      "|(1,[0],[1.0])| (1,[0],[1.0])|     (1,[],[])|       (1,[],[])|    (1,[],[])|(1,[0],[1.0])|(1,[0],[1.0])|      (1,[],[])|  (1,[0],[1.0])| 18|   4|   4|         2|        2|       0|     4|       3|    4|   1|     3|       6|  5|  6|[1.0,1.0,0.0,0.0,...|  1.0|\n",
      "|(1,[0],[1.0])| (1,[0],[1.0])| (1,[0],[1.0])|   (1,[0],[1.0])|(1,[0],[1.0])|(1,[0],[1.0])|(1,[0],[1.0])|  (1,[0],[1.0])|  (1,[0],[1.0])| 17|   1|   1|         1|        2|       0|     5|       3|    3|   1|     3|       4|  5|  5|[1.0,1.0,1.0,1.0,...|  1.0|\n",
      "|(1,[0],[1.0])|     (1,[],[])| (1,[0],[1.0])|       (1,[],[])|    (1,[],[])|    (1,[],[])|(1,[0],[1.0])|  (1,[0],[1.0])|  (1,[0],[1.0])| 15|   1|   1|         1|        2|       3|     4|       3|    2|   2|     3|      10|  7|  8|[1.0,0.0,1.0,0.0,...|  0.0|\n",
      "+-------------+--------------+--------------+----------------+-------------+-------------+-------------+---------------+---------------+---+----+----+----------+---------+--------+------+--------+-----+----+------+--------+---+---+--------------------+-----+\n",
      "only showing top 3 rows\n",
      "\n"
     ]
    }
   ],
   "source": [
    "final_columns = feature_columns + ['features', 'label']\n",
    "data_df = pipeline_model.transform(data).\\\n",
    "            select(final_columns)\n",
    "            \n",
    "data_df.show(3)"
   ]
  },
  {
   "cell_type": "code",
   "execution_count": 57,
   "metadata": {},
   "outputs": [],
   "source": [
    "training, test = data_df.randomSplit([0.8, 0.2], seed=1234)"
   ]
  },
  {
   "cell_type": "code",
   "execution_count": 58,
   "metadata": {},
   "outputs": [],
   "source": [
    "from pyspark.ml.regression import GeneralizedLinearRegression\n",
    "from pyspark.ml.classification import LogisticRegression, DecisionTreeClassifier\n",
    "\n",
    "dt = DecisionTreeClassifier(featuresCol='features', labelCol='label')"
   ]
  },
  {
   "cell_type": "code",
   "execution_count": 59,
   "metadata": {},
   "outputs": [],
   "source": [
    "from pyspark.ml.tuning import ParamGridBuilder\n",
    "param_grid = ParamGridBuilder().\\\n",
    "    addGrid(dt.maxDepth, [2,3,4,5]).\\\n",
    "    build()"
   ]
  },
  {
   "cell_type": "code",
   "execution_count": 60,
   "metadata": {},
   "outputs": [],
   "source": [
    "from pyspark.ml.evaluation import BinaryClassificationEvaluator\n",
    "evaluator = BinaryClassificationEvaluator(rawPredictionCol=\"rawPrediction\", metricName=\"areaUnderROC\")"
   ]
  },
  {
   "cell_type": "code",
   "execution_count": 61,
   "metadata": {},
   "outputs": [],
   "source": [
    "from pyspark.ml.tuning import CrossValidator\n",
    "cv = CrossValidator(estimator=dt, estimatorParamMaps=param_grid, evaluator=evaluator, numFolds=4)"
   ]
  },
  {
   "cell_type": "code",
   "execution_count": 62,
   "metadata": {},
   "outputs": [],
   "source": [
    "cv_model = cv.fit(training)"
   ]
  },
  {
   "cell_type": "code",
   "execution_count": 63,
   "metadata": {},
   "outputs": [],
   "source": [
    "show_columns = ['features', 'label', 'prediction', 'rawPrediction', 'probability']"
   ]
  },
  {
   "cell_type": "code",
   "execution_count": 64,
   "metadata": {},
   "outputs": [
    {
     "name": "stdout",
     "output_type": "stream",
     "text": [
      "+------------------------------------------------------------------------------------------------+-----+----------+-------------+-----------------------------------------+\n",
      "|features                                                                                        |label|prediction|rawPrediction|probability                              |\n",
      "+------------------------------------------------------------------------------------------------+-----+----------+-------------+-----------------------------------------+\n",
      "|[0.0,0.0,0.0,0.0,1.0,1.0,1.0,1.0,1.0,16.0,3.0,4.0,1.0,2.0,0.0,5.0,3.0,3.0,1.0,5.0,4.0,11.0,11.0]|0.0  |0.0       |[490.0,1.0]  |[0.9979633401221996,0.002036659877800407]|\n",
      "|[0.0,0.0,0.0,1.0,0.0,0.0,1.0,1.0,0.0,17.0,4.0,1.0,2.0,1.0,0.0,4.0,5.0,4.0,2.0,5.0,30.0,8.0,8.0] |1.0  |1.0       |[4.0,116.0]  |[0.03333333333333333,0.9666666666666667] |\n",
      "|[0.0,0.0,0.0,1.0,0.0,1.0,1.0,0.0,1.0,15.0,4.0,2.0,2.0,1.0,1.0,5.0,5.0,5.0,3.0,5.0,6.0,11.0,11.0]|0.0  |0.0       |[490.0,1.0]  |[0.9979633401221996,0.002036659877800407]|\n",
      "|[0.0,0.0,1.0,0.0,1.0,0.0,1.0,1.0,0.0,18.0,2.0,1.0,4.0,2.0,0.0,4.0,3.0,2.0,4.0,3.0,14.0,10.0,8.0]|1.0  |1.0       |[5.0,12.0]   |[0.29411764705882354,0.7058823529411765] |\n",
      "|[0.0,0.0,1.0,1.0,0.0,1.0,0.0,1.0,0.0,18.0,1.0,1.0,1.0,1.0,3.0,2.0,3.0,5.0,2.0,4.0,0.0,6.0,5.0]  |1.0  |1.0       |[4.0,116.0]  |[0.03333333333333333,0.9666666666666667] |\n",
      "+------------------------------------------------------------------------------------------------+-----+----------+-------------+-----------------------------------------+\n",
      "only showing top 5 rows\n",
      "\n"
     ]
    }
   ],
   "source": [
    "pred_test_cv = cv_model.transform(test)\n",
    "pred_test_cv.select(show_columns).show(5, truncate=False)"
   ]
  },
  {
   "cell_type": "code",
   "execution_count": 65,
   "metadata": {},
   "outputs": [
    {
     "data": {
      "text/plain": [
       "defaultdict(int,\n",
       "            {Row(label=0.0, prediction=0.0): 148,\n",
       "             Row(label=0.0, prediction=1.0): 5,\n",
       "             Row(label=1.0, prediction=0.0): 6,\n",
       "             Row(label=1.0, prediction=1.0): 29})"
      ]
     },
     "execution_count": 65,
     "metadata": {},
     "output_type": "execute_result"
    }
   ],
   "source": [
    "label_and_pred = cv_model.transform(test).select('label', 'prediction')\n",
    "label_and_pred.rdd.zipWithIndex().countByKey()"
   ]
  },
  {
   "cell_type": "code",
   "execution_count": 66,
   "metadata": {},
   "outputs": [
    {
     "data": {
      "text/plain": [
       "0.93828197945845"
      ]
     },
     "execution_count": 66,
     "metadata": {},
     "output_type": "execute_result"
    }
   ],
   "source": [
    "evaluator.evaluate(pred_test_cv)"
   ]
  },
  {
   "cell_type": "code",
   "execution_count": 235,
   "metadata": {},
   "outputs": [],
   "source": [
    "# Logistic Regression\n",
    "from pyspark.ml.classification import LogisticRegression\n",
    "logr = LogisticRegression(featuresCol='features', labelCol='label')"
   ]
  },
  {
   "cell_type": "code",
   "execution_count": 236,
   "metadata": {},
   "outputs": [],
   "source": [
    "from pyspark.ml.tuning import ParamGridBuilder\n",
    "param_grid = ParamGridBuilder().\\\n",
    "    addGrid(logr.regParam, [0, 0.5, 1, 2]).\\\n",
    "    addGrid(logr.elasticNetParam, [0, 0.5, 1]).\\\n",
    "    build()"
   ]
  },
  {
   "cell_type": "code",
   "execution_count": 237,
   "metadata": {},
   "outputs": [],
   "source": [
    "from pyspark.ml.evaluation import BinaryClassificationEvaluator\n",
    "evaluator = BinaryClassificationEvaluator(rawPredictionCol=\"rawPrediction\")"
   ]
  },
  {
   "cell_type": "code",
   "execution_count": 238,
   "metadata": {},
   "outputs": [],
   "source": [
    "from pyspark.ml.tuning import CrossValidator\n",
    "cv = CrossValidator(estimator=logr, estimatorParamMaps=param_grid, evaluator=evaluator, numFolds=4)"
   ]
  },
  {
   "cell_type": "code",
   "execution_count": 239,
   "metadata": {},
   "outputs": [],
   "source": [
    "cv_model = cv.fit(training)"
   ]
  },
  {
   "cell_type": "code",
   "execution_count": 240,
   "metadata": {},
   "outputs": [
    {
     "name": "stdout",
     "output_type": "stream",
     "text": [
      "+------------------------------------------------------------------------------------------------+-----+----------+--------------------------------------+------------------------------------------+\n",
      "|features                                                                                        |label|prediction|rawPrediction                         |probability                               |\n",
      "+------------------------------------------------------------------------------------------------+-----+----------+--------------------------------------+------------------------------------------+\n",
      "|[0.0,0.0,0.0,0.0,1.0,1.0,1.0,1.0,1.0,16.0,3.0,4.0,1.0,2.0,0.0,5.0,3.0,3.0,1.0,5.0,4.0,11.0,11.0]|0.0  |0.0       |[4.83732455549838,-4.83732455549838]  |[0.9921341252607007,0.007865874739299396] |\n",
      "|[0.0,0.0,0.0,1.0,0.0,0.0,1.0,1.0,0.0,17.0,4.0,1.0,2.0,1.0,0.0,4.0,5.0,4.0,2.0,5.0,30.0,8.0,8.0] |1.0  |1.0       |[-2.591550727756907,2.591550727756907]|[0.06968418472443894,0.9303158152755611]  |\n",
      "|[0.0,0.0,0.0,1.0,0.0,1.0,1.0,0.0,1.0,15.0,4.0,2.0,2.0,1.0,1.0,5.0,5.0,5.0,3.0,5.0,6.0,11.0,11.0]|0.0  |0.0       |[6.033239682739346,-6.033239682739346]|[0.9976080217275574,0.0023919782724427137]|\n",
      "|[0.0,0.0,1.0,0.0,1.0,0.0,1.0,1.0,0.0,18.0,2.0,1.0,4.0,2.0,0.0,4.0,3.0,2.0,4.0,3.0,14.0,10.0,8.0]|1.0  |1.0       |[-1.519599385501536,1.519599385501536]|[0.17952051950388523,0.8204794804961147]  |\n",
      "|[0.0,0.0,1.0,1.0,0.0,1.0,0.0,1.0,0.0,18.0,1.0,1.0,1.0,1.0,3.0,2.0,3.0,5.0,2.0,4.0,0.0,6.0,5.0]  |1.0  |1.0       |[-9.832719795963822,9.832719795963822]|[5.366371618277635E-5,0.9999463362838172] |\n",
      "+------------------------------------------------------------------------------------------------+-----+----------+--------------------------------------+------------------------------------------+\n",
      "only showing top 5 rows\n",
      "\n"
     ]
    }
   ],
   "source": [
    "# Prediction on Test data\n",
    "pred_test_cv = cv_model.transform(test)\n",
    "pred_test_cv.select(show_columns).show(5, truncate=False)\n"
   ]
  },
  {
   "cell_type": "code",
   "execution_count": 241,
   "metadata": {},
   "outputs": [
    {
     "data": {
      "text/plain": [
       "defaultdict(int,\n",
       "            {Row(label=0.0, prediction=0.0): 143,\n",
       "             Row(label=0.0, prediction=1.0): 10,\n",
       "             Row(label=1.0, prediction=0.0): 3,\n",
       "             Row(label=1.0, prediction=1.0): 32})"
      ]
     },
     "execution_count": 241,
     "metadata": {},
     "output_type": "execute_result"
    }
   ],
   "source": [
    "label_and_pred = cv_model.transform(test).select('label', 'prediction')\n",
    "label_and_pred.rdd.zipWithIndex().countByKey()"
   ]
  },
  {
   "cell_type": "code",
   "execution_count": 242,
   "metadata": {},
   "outputs": [
    {
     "data": {
      "text/plain": [
       "0.9777777777777779"
      ]
     },
     "execution_count": 242,
     "metadata": {},
     "output_type": "execute_result"
    }
   ],
   "source": [
    "evaluator.evaluate(pred_test_cv)"
   ]
  },
  {
   "cell_type": "code",
   "execution_count": 243,
   "metadata": {},
   "outputs": [
    {
     "data": {
      "text/plain": [
       "0.8578565267395055"
      ]
     },
     "execution_count": 243,
     "metadata": {},
     "output_type": "execute_result"
    }
   ],
   "source": [
    "#Naive Bayes classification\n",
    "from pyspark.ml.classification import NaiveBayes\n",
    "naivebayes = NaiveBayes(featuresCol=\"features\", labelCol=\"label\")\n",
    "\n",
    "from pyspark.ml.tuning import ParamGridBuilder\n",
    "param_grid = ParamGridBuilder().\\\n",
    "    addGrid(naivebayes.smoothing, [0, 1, 2, 4, 8]).\\\n",
    "    build()\n",
    "\n",
    "from pyspark.ml.evaluation import MulticlassClassificationEvaluator\n",
    "evaluator = MulticlassClassificationEvaluator()\n",
    "\n",
    "from pyspark.ml.tuning import CrossValidator\n",
    "crossvalidator = CrossValidator(estimator=naivebayes, estimatorParamMaps=param_grid, evaluator=evaluator,numFolds=4)\n",
    "\n",
    "crossvalidation_mode = crossvalidator.fit(training)\n",
    "\n",
    "#Prediction on test set\n",
    "pred_test = crossvalidation_mode.transform(test)\n",
    "\n",
    "evaluator.evaluate(pred_test)\n",
    "\n"
   ]
  },
  {
   "cell_type": "code",
   "execution_count": 67,
   "metadata": {},
   "outputs": [
    {
     "data": {
      "text/plain": [
       "0.9837535014005603"
      ]
     },
     "execution_count": 67,
     "metadata": {},
     "output_type": "execute_result"
    }
   ],
   "source": [
    "#Random forest classification\n",
    "from pyspark.ml.classification import RandomForestClassifier\n",
    "\n",
    "random_forest = RandomForestClassifier(featuresCol='features', labelCol='label')\n",
    "\n",
    "param_grid = ParamGridBuilder().\\\n",
    "    addGrid(random_forest.maxDepth, [2, 3, 4]).\\\n",
    "    addGrid(random_forest.minInfoGain, [0.0, 0.1, 0.2, 0.3]).\\\n",
    "    build()\n",
    "evaluator = BinaryClassificationEvaluator()\n",
    "crossvalidation = CrossValidator(estimator=random_forest, estimatorParamMaps=param_grid, evaluator=evaluator,numFolds=4)\n",
    "crossvalidation_mod = crossvalidation.fit(training)\n",
    "# Prediction on Test\n",
    "pred_test = crossvalidation_mod.transform(test)\n",
    "evaluator.evaluate(pred_test)"
   ]
  },
  {
   "cell_type": "code",
   "execution_count": null,
   "metadata": {},
   "outputs": [],
   "source": [
    "# Gradient boost tree classification\n",
    "from pyspark.ml.classification import GBTClassifier\n",
    "\n",
    "gbt = GBTClassifier(featuresCol='features', labelCol='label')\n",
    "\n",
    "param_grid = ParamGridBuilder().\\\n",
    "    addGrid(gbt.maxDepth, [2, 3, 4]).\\\n",
    "    addGrid(gbt.minInfoGain, [0.0, 0.1, 0.2, 0.3]).\\\n",
    "    addGrid(gbt.stepSize, [0.05, 0.1, 0.2, 0.4]).\\\n",
    "    build()\n",
    "evaluator = BinaryClassificationEvaluator(rawPredictionCol='prediction')\n",
    "crossvalidation = CrossValidator(estimator=gbt, estimatorParamMaps=param_grid, evaluator=evaluator,numFolds=4)\n",
    "crossvalidation_mod = crossvalidation.fit(training)\n",
    "pred_test = crossvalidation_mod.transform(test)\n",
    "evaluator.evaluate(pred_test)"
   ]
  },
  {
   "cell_type": "code",
   "execution_count": 245,
   "metadata": {},
   "outputs": [
    {
     "name": "stdout",
     "output_type": "stream",
     "text": [
      "Training Data count:\n",
      "856\n",
      "Test Data count:\n",
      "188\n"
     ]
    }
   ],
   "source": [
    "# Step 7: Data Mining\n",
    "# Splitting data into 80-20 training and test sets.\n",
    "training, test = data_df.randomSplit([0.8, 0.2], seed=1234)\n",
    "print(\"Training Data count:\")\n",
    "print(training.count())\n",
    "print(\"Test Data count:\")\n",
    "print(test.count())"
   ]
  },
  {
   "cell_type": "code",
   "execution_count": 246,
   "metadata": {},
   "outputs": [
    {
     "data": {
      "text/plain": [
       "0.9826330532212886"
      ]
     },
     "execution_count": 246,
     "metadata": {},
     "output_type": "execute_result"
    }
   ],
   "source": [
    "# Step 7.2 Conducting Data Mining (Running the Model) using Random Forest\n",
    "\n",
    "# Estimator\n",
    "from pyspark.ml.classification import RandomForestClassifier\n",
    "\n",
    "random_forest = RandomForestClassifier(featuresCol='features', labelCol='label')\n",
    "\n",
    "# Parameter grid\n",
    "param_grid = ParamGridBuilder().\\\n",
    "    addGrid(random_forest.maxDepth, [2, 3, 4]).\\\n",
    "    addGrid(random_forest.minInfoGain, [0.0, 0.1, 0.2, 0.3]).\\\n",
    "    build()\n",
    "\n",
    "# Evaluator\n",
    "evaluator = BinaryClassificationEvaluator()\n",
    "\n",
    "# Build cross-validation model\n",
    "crossvalidation = CrossValidator(estimator=random_forest, estimatorParamMaps=param_grid, evaluator=evaluator,numFolds=4)\n",
    "\n",
    "# Fit cross-validation model\n",
    "crossvalidation_mod = crossvalidation.fit(training)\n",
    "# Prediction on Test\n",
    "pred_test = crossvalidation_mod.transform(test)\n",
    "\n",
    "# Accuracy on Test data\n",
    "evaluator.evaluate(pred_test)"
   ]
  },
  {
   "cell_type": "code",
   "execution_count": 247,
   "metadata": {},
   "outputs": [
    {
     "name": "stdout",
     "output_type": "stream",
     "text": [
      "Accuracy on training data (areaUnderROC):  0.9826330532212886\n"
     ]
    }
   ],
   "source": [
    "# Prediction performance\n",
    "print('Accuracy on training data (areaUnderROC): ', evaluator.setMetricName('areaUnderROC').evaluate(pred_test))"
   ]
  },
  {
   "cell_type": "code",
   "execution_count": 248,
   "metadata": {},
   "outputs": [
    {
     "data": {
      "text/plain": [
       "defaultdict(int,\n",
       "            {Row(label=0.0, prediction=0.0): 147,\n",
       "             Row(label=0.0, prediction=1.0): 6,\n",
       "             Row(label=1.0, prediction=0.0): 3,\n",
       "             Row(label=1.0, prediction=1.0): 32})"
      ]
     },
     "execution_count": 248,
     "metadata": {},
     "output_type": "execute_result"
    }
   ],
   "source": [
    "# Confusion matrix from test data\n",
    "label_pred_test = pred_test.select('label', 'prediction')\n",
    "label_pred_test.rdd.zipWithIndex().countByKey()"
   ]
  },
  {
   "cell_type": "code",
   "execution_count": 249,
   "metadata": {},
   "outputs": [
    {
     "data": {
      "text/html": [
       "<div>\n",
       "<style scoped>\n",
       "    .dataframe tbody tr th:only-of-type {\n",
       "        vertical-align: middle;\n",
       "    }\n",
       "\n",
       "    .dataframe tbody tr th {\n",
       "        vertical-align: top;\n",
       "    }\n",
       "\n",
       "    .dataframe thead th {\n",
       "        text-align: right;\n",
       "    }\n",
       "</style>\n",
       "<table border=\"1\" class=\"dataframe\">\n",
       "  <thead>\n",
       "    <tr style=\"text-align: right;\">\n",
       "      <th></th>\n",
       "      <th>onehot_sex</th>\n",
       "      <th>onehot_famsize</th>\n",
       "      <th>onehot_Pstatus</th>\n",
       "      <th>onehot_schoolsup</th>\n",
       "      <th>onehot_famsup</th>\n",
       "      <th>onehot_paid</th>\n",
       "      <th>onehot_higher</th>\n",
       "      <th>onehot_internet</th>\n",
       "      <th>onehot_romantic</th>\n",
       "      <th>age</th>\n",
       "      <th>...</th>\n",
       "      <th>Dalc</th>\n",
       "      <th>health</th>\n",
       "      <th>absences</th>\n",
       "      <th>G1</th>\n",
       "      <th>G2</th>\n",
       "      <th>features</th>\n",
       "      <th>label</th>\n",
       "      <th>rawPrediction</th>\n",
       "      <th>probability</th>\n",
       "      <th>prediction</th>\n",
       "    </tr>\n",
       "  </thead>\n",
       "  <tbody>\n",
       "    <tr>\n",
       "      <th>0</th>\n",
       "      <td>(0.0)</td>\n",
       "      <td>(0.0)</td>\n",
       "      <td>(0.0)</td>\n",
       "      <td>(0.0)</td>\n",
       "      <td>(1.0)</td>\n",
       "      <td>(1.0)</td>\n",
       "      <td>(1.0)</td>\n",
       "      <td>(1.0)</td>\n",
       "      <td>(1.0)</td>\n",
       "      <td>16</td>\n",
       "      <td>...</td>\n",
       "      <td>1</td>\n",
       "      <td>5</td>\n",
       "      <td>4</td>\n",
       "      <td>11</td>\n",
       "      <td>11</td>\n",
       "      <td>[0.0, 0.0, 0.0, 0.0, 1.0, 1.0, 1.0, 1.0, 1.0, ...</td>\n",
       "      <td>0.0</td>\n",
       "      <td>[19.548679836852052, 0.4513201631479473]</td>\n",
       "      <td>[0.9774339918426026, 0.022566008157397364]</td>\n",
       "      <td>0.0</td>\n",
       "    </tr>\n",
       "    <tr>\n",
       "      <th>1</th>\n",
       "      <td>(0.0)</td>\n",
       "      <td>(0.0)</td>\n",
       "      <td>(0.0)</td>\n",
       "      <td>(1.0)</td>\n",
       "      <td>(0.0)</td>\n",
       "      <td>(0.0)</td>\n",
       "      <td>(1.0)</td>\n",
       "      <td>(1.0)</td>\n",
       "      <td>(0.0)</td>\n",
       "      <td>17</td>\n",
       "      <td>...</td>\n",
       "      <td>2</td>\n",
       "      <td>5</td>\n",
       "      <td>30</td>\n",
       "      <td>8</td>\n",
       "      <td>8</td>\n",
       "      <td>[0.0, 0.0, 0.0, 1.0, 0.0, 0.0, 1.0, 1.0, 0.0, ...</td>\n",
       "      <td>1.0</td>\n",
       "      <td>[3.6474253590325016, 16.352574640967497]</td>\n",
       "      <td>[0.1823712679516251, 0.8176287320483748]</td>\n",
       "      <td>1.0</td>\n",
       "    </tr>\n",
       "    <tr>\n",
       "      <th>2</th>\n",
       "      <td>(0.0)</td>\n",
       "      <td>(0.0)</td>\n",
       "      <td>(0.0)</td>\n",
       "      <td>(1.0)</td>\n",
       "      <td>(0.0)</td>\n",
       "      <td>(1.0)</td>\n",
       "      <td>(1.0)</td>\n",
       "      <td>(0.0)</td>\n",
       "      <td>(1.0)</td>\n",
       "      <td>15</td>\n",
       "      <td>...</td>\n",
       "      <td>3</td>\n",
       "      <td>5</td>\n",
       "      <td>6</td>\n",
       "      <td>11</td>\n",
       "      <td>11</td>\n",
       "      <td>[0.0, 0.0, 0.0, 1.0, 0.0, 1.0, 1.0, 0.0, 1.0, ...</td>\n",
       "      <td>0.0</td>\n",
       "      <td>[17.711566209198338, 2.288433790801659]</td>\n",
       "      <td>[0.8855783104599171, 0.11442168954008299]</td>\n",
       "      <td>0.0</td>\n",
       "    </tr>\n",
       "    <tr>\n",
       "      <th>3</th>\n",
       "      <td>(0.0)</td>\n",
       "      <td>(0.0)</td>\n",
       "      <td>(1.0)</td>\n",
       "      <td>(0.0)</td>\n",
       "      <td>(1.0)</td>\n",
       "      <td>(0.0)</td>\n",
       "      <td>(1.0)</td>\n",
       "      <td>(1.0)</td>\n",
       "      <td>(0.0)</td>\n",
       "      <td>18</td>\n",
       "      <td>...</td>\n",
       "      <td>4</td>\n",
       "      <td>3</td>\n",
       "      <td>14</td>\n",
       "      <td>10</td>\n",
       "      <td>8</td>\n",
       "      <td>[0.0, 0.0, 1.0, 0.0, 1.0, 0.0, 1.0, 1.0, 0.0, ...</td>\n",
       "      <td>1.0</td>\n",
       "      <td>[9.921836966486795, 10.078163033513203]</td>\n",
       "      <td>[0.4960918483243398, 0.5039081516756602]</td>\n",
       "      <td>1.0</td>\n",
       "    </tr>\n",
       "    <tr>\n",
       "      <th>4</th>\n",
       "      <td>(0.0)</td>\n",
       "      <td>(0.0)</td>\n",
       "      <td>(1.0)</td>\n",
       "      <td>(1.0)</td>\n",
       "      <td>(0.0)</td>\n",
       "      <td>(1.0)</td>\n",
       "      <td>(0.0)</td>\n",
       "      <td>(1.0)</td>\n",
       "      <td>(0.0)</td>\n",
       "      <td>18</td>\n",
       "      <td>...</td>\n",
       "      <td>2</td>\n",
       "      <td>4</td>\n",
       "      <td>0</td>\n",
       "      <td>6</td>\n",
       "      <td>5</td>\n",
       "      <td>[0.0, 0.0, 1.0, 1.0, 0.0, 1.0, 0.0, 1.0, 0.0, ...</td>\n",
       "      <td>1.0</td>\n",
       "      <td>[3.3229099167211316, 16.67709008327887]</td>\n",
       "      <td>[0.1661454958360566, 0.8338545041639435]</td>\n",
       "      <td>1.0</td>\n",
       "    </tr>\n",
       "  </tbody>\n",
       "</table>\n",
       "<p>5 rows × 28 columns</p>\n",
       "</div>"
      ],
      "text/plain": [
       "  onehot_sex onehot_famsize onehot_Pstatus onehot_schoolsup onehot_famsup  \\\n",
       "0      (0.0)          (0.0)          (0.0)            (0.0)         (1.0)   \n",
       "1      (0.0)          (0.0)          (0.0)            (1.0)         (0.0)   \n",
       "2      (0.0)          (0.0)          (0.0)            (1.0)         (0.0)   \n",
       "3      (0.0)          (0.0)          (1.0)            (0.0)         (1.0)   \n",
       "4      (0.0)          (0.0)          (1.0)            (1.0)         (0.0)   \n",
       "\n",
       "  onehot_paid onehot_higher onehot_internet onehot_romantic  age     ...      \\\n",
       "0       (1.0)         (1.0)           (1.0)           (1.0)   16     ...       \n",
       "1       (0.0)         (1.0)           (1.0)           (0.0)   17     ...       \n",
       "2       (1.0)         (1.0)           (0.0)           (1.0)   15     ...       \n",
       "3       (0.0)         (1.0)           (1.0)           (0.0)   18     ...       \n",
       "4       (1.0)         (0.0)           (1.0)           (0.0)   18     ...       \n",
       "\n",
       "   Dalc  health  absences  G1  G2  \\\n",
       "0     1       5         4  11  11   \n",
       "1     2       5        30   8   8   \n",
       "2     3       5         6  11  11   \n",
       "3     4       3        14  10   8   \n",
       "4     2       4         0   6   5   \n",
       "\n",
       "                                            features  label  \\\n",
       "0  [0.0, 0.0, 0.0, 0.0, 1.0, 1.0, 1.0, 1.0, 1.0, ...    0.0   \n",
       "1  [0.0, 0.0, 0.0, 1.0, 0.0, 0.0, 1.0, 1.0, 0.0, ...    1.0   \n",
       "2  [0.0, 0.0, 0.0, 1.0, 0.0, 1.0, 1.0, 0.0, 1.0, ...    0.0   \n",
       "3  [0.0, 0.0, 1.0, 0.0, 1.0, 0.0, 1.0, 1.0, 0.0, ...    1.0   \n",
       "4  [0.0, 0.0, 1.0, 1.0, 0.0, 1.0, 0.0, 1.0, 0.0, ...    1.0   \n",
       "\n",
       "                              rawPrediction  \\\n",
       "0  [19.548679836852052, 0.4513201631479473]   \n",
       "1  [3.6474253590325016, 16.352574640967497]   \n",
       "2   [17.711566209198338, 2.288433790801659]   \n",
       "3   [9.921836966486795, 10.078163033513203]   \n",
       "4   [3.3229099167211316, 16.67709008327887]   \n",
       "\n",
       "                                  probability  prediction  \n",
       "0  [0.9774339918426026, 0.022566008157397364]         0.0  \n",
       "1    [0.1823712679516251, 0.8176287320483748]         1.0  \n",
       "2   [0.8855783104599171, 0.11442168954008299]         0.0  \n",
       "3    [0.4960918483243398, 0.5039081516756602]         1.0  \n",
       "4    [0.1661454958360566, 0.8338545041639435]         1.0  \n",
       "\n",
       "[5 rows x 28 columns]"
      ]
     },
     "execution_count": 249,
     "metadata": {},
     "output_type": "execute_result"
    }
   ],
   "source": [
    "pred_test.toPandas().head()"
   ]
  },
  {
   "cell_type": "code",
   "execution_count": null,
   "metadata": {},
   "outputs": [],
   "source": [
    "# Re-doing Random Tree Classier for feature importance\n",
    "# The entire data frame need to be converted to numeric before process"
   ]
  },
  {
   "cell_type": "code",
   "execution_count": 70,
   "metadata": {},
   "outputs": [
    {
     "name": "stdout",
     "output_type": "stream",
     "text": [
      "+-------------------------+-----+\n",
      "|features                 |label|\n",
      "+-------------------------+-----+\n",
      "|[0.0,2.0,0.0,1.0,0.0,3.0]|1.0  |\n",
      "|[0.0,1.0,0.0,0.0,3.0,1.0]|1.0  |\n",
      "|[0.0,3.0,1.0,0.0,3.0,1.0]|0.0  |\n",
      "|(6,[1],[3.0])            |0.0  |\n",
      "|(6,[4,5],[2.0,2.0])      |0.0  |\n",
      "+-------------------------+-----+\n",
      "only showing top 5 rows\n",
      "\n"
     ]
    }
   ],
   "source": [
    "data2 = data\n",
    "from pyspark.ml import Pipeline\n",
    "from pyspark.ml.feature import StringIndexer\n",
    "\n",
    "indexers = [StringIndexer(inputCol=column, outputCol=column+\"_index\").fit(data2) for column in data2.columns]\n",
    "\n",
    "pipeline = Pipeline(stages=indexers)\n",
    "df_r = pipeline.fit(data2).transform(data2)\n",
    "df_r = df_r.select([c for c in df_r.columns if c in [\n",
    " 'sex_index',\n",
    " 'age_index',\n",
    " 'famsize_index',\n",
    " 'Pstatus_index',\n",
    " 'Medu_index',\n",
    " 'Fedu_index',\n",
    " 'traveltime_index',\n",
    " 'studytime_index',\n",
    " 'failures_index',\n",
    " 'schoolsup_index',\n",
    " 'famsup_index',\n",
    " 'paid_index',\n",
    " 'higher_index',\n",
    " 'internet_index',\n",
    " 'romantic_index',\n",
    " 'famrel_index',\n",
    " 'freetime_index',\n",
    " 'goout_index',\n",
    " 'Dalc_index',\n",
    " 'health_index',\n",
    " 'absences_index',\n",
    " 'G1_index',\n",
    " 'G2_index',\n",
    " 'status_index'\n",
    "]])\n",
    "\n",
    "mdf = (df_r.withColumnRenamed('sex_index','sex')\n",
    ".withColumnRenamed('age_index','age')\n",
    ".withColumnRenamed('famsize_index','famsize')\n",
    ".withColumnRenamed('Pstatus_index','Pstatus')\n",
    ".withColumnRenamed('Medu_index','Medu')\n",
    ".withColumnRenamed('Fedu_index','Fedu')\n",
    ".withColumnRenamed('traveltime','traveltime')\n",
    ".withColumnRenamed('studytime','studytime')\n",
    ".withColumnRenamed('failures_index','failures')\n",
    ".withColumnRenamed('schoolsup_index','schoolsup')\n",
    " \n",
    ".withColumnRenamed('famsup_index','famsup')\n",
    ".withColumnRenamed('paid_index','paid')\n",
    ".withColumnRenamed('higher_index','higher')\n",
    ".withColumnRenamed('internet_index','internet')\n",
    ".withColumnRenamed('romantic_index','romantic')\n",
    ".withColumnRenamed('famrel_index','famrel')\n",
    ".withColumnRenamed('freetime_index','freetime')\n",
    " \n",
    ".withColumnRenamed('goout_index','goout')\n",
    ".withColumnRenamed('Dalc_index','Dalc')\n",
    ".withColumnRenamed('health_index','health')\n",
    ".withColumnRenamed('absences_index','absences')\n",
    ".withColumnRenamed('G1_index','G1')\n",
    ".withColumnRenamed('G2_index','G2')\n",
    ".withColumnRenamed('status_index','status')\n",
    "\n",
    ")\n",
    "\n",
    "mdf = mdf.withColumnRenamed('status', 'label')\n",
    "\n",
    "from pyspark.ml.feature import VectorAssembler\n",
    "\n",
    "assembler = VectorAssembler(inputCols=['sex',\n",
    " 'age',\n",
    " 'famsize',\n",
    " 'Pstatus',\n",
    " 'Medu',\n",
    " 'Fedu'], \n",
    "outputCol='features')\n",
    "mdf_assembled = assembler.transform(mdf)\n",
    "mdf_assembled.select('features', 'label').show(5, truncate=False)\n",
    "\n",
    "train, test = mdf_assembled.randomSplit([0.8,0.2], seed=17)\n",
    "\n",
    "\n",
    "from pyspark.ml.classification import RandomForestClassifier\n",
    "from pyspark.ml.tuning import ParamGridBuilder, CrossValidator\n",
    "from pyspark.ml.evaluation import BinaryClassificationEvaluator\n",
    "\n",
    "\n",
    "randomForestClassifier = RandomForestClassifier()\n",
    "param_grid = ParamGridBuilder().\\\n",
    "    addGrid(randomForestClassifier.maxDepth, [2, 3, 4]).\\\n",
    "    addGrid(randomForestClassifier.minInfoGain, [0.0, 0.1, 0.2, 0.3]).\\\n",
    "    build()\n",
    "evaluator = BinaryClassificationEvaluator()\n",
    "cv = CrossValidator(estimator=randomForestClassifier, estimatorParamMaps=param_grid, evaluator=evaluator,numFolds=4)\n",
    "cvModel_rf = cv.fit(train)\n",
    "cvPrediction_rf = cvModel_rf.transform(test)\n"
   ]
  },
  {
   "cell_type": "code",
   "execution_count": 75,
   "metadata": {},
   "outputs": [
    {
     "name": "stdout",
     "output_type": "stream",
     "text": [
      "correlation to status for  sex 0.024253860073452847\n",
      "correlation to status for  age 0.07913253517249297\n",
      "correlation to status for  famsize -0.04779694435774583\n",
      "correlation to status for  Pstatus -0.026403789875920024\n",
      "correlation to status for  Medu 0.11780558697520532\n",
      "correlation to status for  Fedu -0.06835969095776716\n",
      "correlation to status for  traveltime_index 0.033851608644511165\n",
      "correlation to status for  studytime_index -0.056255620876845124\n",
      "correlation to status for  failures 0.3560001243249284\n",
      "correlation to status for  schoolsup 0.03478788858532879\n",
      "correlation to status for  famsup -0.004763262245730109\n",
      "correlation to status for  paid 0.06535448853466345\n",
      "correlation to status for  higher 0.21842977806270533\n",
      "correlation to status for  internet 0.058058326374777446\n",
      "correlation to status for  romantic 0.07854494305494217\n",
      "correlation to status for  famrel 0.08058007976891443\n",
      "correlation to status for  freetime 0.004402081177242448\n",
      "correlation to status for  goout 0.11685915783529058\n",
      "correlation to status for  Dalc 0.08958112752306886\n",
      "correlation to status for  health -0.041147390174105306\n",
      "correlation to status for  absences 0.1081973942256124\n",
      "correlation to status for  G1 0.2945651313526405\n",
      "correlation to status for  G2 0.4092411987919396\n",
      "correlation to status for  label 1.0\n"
     ]
    }
   ],
   "source": [
    "# Feature Selection\n",
    "import six\n",
    "for i in mdf.columns:\n",
    "    if not (isinstance(mdf.select(i).take(1)[0][0],six.string_types)):\n",
    "        print(\"correlation to status for \", i, mdf.stat.corr('label',i))"
   ]
  },
  {
   "cell_type": "raw",
   "metadata": {},
   "source": []
  },
  {
   "cell_type": "code",
   "execution_count": 72,
   "metadata": {},
   "outputs": [
    {
     "name": "stdout",
     "output_type": "stream",
     "text": [
      "         Importance\n",
      "age        0.343765\n",
      "Medu       0.208952\n",
      "Fedu       0.180277\n",
      "famsize    0.115376\n",
      "Pstatus    0.088671\n",
      "sex        0.062959\n"
     ]
    }
   ],
   "source": [
    "# Feature Importance of Random Forest Classifier\n",
    "import pandas as pd\n",
    "rf_model = cvModel_rf.bestModel \n",
    "var_imp = rf_model.featureImportances\n",
    "var_imp\n",
    "feature_importance = pd.DataFrame(var_imp.toArray(),index = train.columns[0:6],\n",
    "                                  columns=['Importance']).sort_values('Importance', ascending=False)\n",
    "print(feature_importance)"
   ]
  },
  {
   "cell_type": "code",
   "execution_count": null,
   "metadata": {},
   "outputs": [],
   "source": [
    "# Iteration"
   ]
  },
  {
   "cell_type": "code",
   "execution_count": 68,
   "metadata": {},
   "outputs": [
    {
     "data": {
      "text/plain": [
       "0.9837535014005603"
      ]
     },
     "execution_count": 68,
     "metadata": {},
     "output_type": "execute_result"
    }
   ],
   "source": [
    "#Random forest classification\n",
    "from pyspark.ml.classification import RandomForestClassifier\n",
    "\n",
    "random_forest = RandomForestClassifier(featuresCol='features', labelCol='label')\n",
    "\n",
    "param_grid = ParamGridBuilder().\\\n",
    "    addGrid(random_forest.maxDepth, [2, 3, 4]).\\\n",
    "    addGrid(random_forest.minInfoGain, [0.0, 0.1, 0.2, 0.3]).\\\n",
    "    build()\n",
    "evaluator = BinaryClassificationEvaluator()\n",
    "crossvalidation = CrossValidator(estimator=random_forest, estimatorParamMaps=param_grid, \n",
    "                                 evaluator=evaluator,numFolds=10)\n",
    "crossvalidation_mod = crossvalidation.fit(training)\n",
    "# Prediction on Test\n",
    "pred_test = crossvalidation_mod.transform(test)\n",
    "evaluator.evaluate(pred_test)"
   ]
  },
  {
   "cell_type": "code",
   "execution_count": 69,
   "metadata": {},
   "outputs": [
    {
     "data": {
      "text/plain": [
       "0.9837535014005602"
      ]
     },
     "execution_count": 69,
     "metadata": {},
     "output_type": "execute_result"
    }
   ],
   "source": [
    "#Random forest classification\n",
    "from pyspark.ml.classification import RandomForestClassifier\n",
    "\n",
    "random_forest = RandomForestClassifier(featuresCol='features', labelCol='label')\n",
    "\n",
    "param_grid = ParamGridBuilder().\\\n",
    "    addGrid(random_forest.maxDepth, [2, 3, 4]).\\\n",
    "    addGrid(random_forest.minInfoGain, [0.0, 0.1, 0.2, 0.3]).\\\n",
    "    build()\n",
    "evaluator = BinaryClassificationEvaluator()\n",
    "crossvalidation = CrossValidator(estimator=random_forest, estimatorParamMaps=param_grid, \n",
    "                                 evaluator=evaluator,numFolds=15)\n",
    "crossvalidation_mod = crossvalidation.fit(training)\n",
    "# Prediction on Test\n",
    "pred_test = crossvalidation_mod.transform(test)\n",
    "evaluator.evaluate(pred_test)"
   ]
  },
  {
   "cell_type": "code",
   "execution_count": 54,
   "metadata": {},
   "outputs": [],
   "source": []
  },
  {
   "cell_type": "code",
   "execution_count": null,
   "metadata": {},
   "outputs": [],
   "source": []
  },
  {
   "cell_type": "code",
   "execution_count": null,
   "metadata": {},
   "outputs": [],
   "source": []
  },
  {
   "cell_type": "code",
   "execution_count": null,
   "metadata": {},
   "outputs": [],
   "source": []
  },
  {
   "cell_type": "code",
   "execution_count": null,
   "metadata": {},
   "outputs": [],
   "source": []
  },
  {
   "cell_type": "code",
   "execution_count": 167,
   "metadata": {},
   "outputs": [],
   "source": []
  },
  {
   "cell_type": "code",
   "execution_count": 168,
   "metadata": {},
   "outputs": [],
   "source": []
  },
  {
   "cell_type": "code",
   "execution_count": null,
   "metadata": {},
   "outputs": [],
   "source": []
  },
  {
   "cell_type": "code",
   "execution_count": null,
   "metadata": {},
   "outputs": [],
   "source": []
  }
 ],
 "metadata": {
  "kernelspec": {
   "display_name": "Python 3",
   "language": "python",
   "name": "python3"
  },
  "language_info": {
   "codemirror_mode": {
    "name": "ipython",
    "version": 3
   },
   "file_extension": ".py",
   "mimetype": "text/x-python",
   "name": "python",
   "nbconvert_exporter": "python",
   "pygments_lexer": "ipython3",
   "version": "3.5.2"
  }
 },
 "nbformat": 4,
 "nbformat_minor": 2
}
